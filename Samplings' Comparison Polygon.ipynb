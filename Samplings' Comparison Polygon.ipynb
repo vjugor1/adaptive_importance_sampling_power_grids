{
 "cells": [
  {
   "cell_type": "code",
   "execution_count": 1,
   "metadata": {},
   "outputs": [],
   "source": [
    "# Import namespaces\n",
    "import sys\n",
    "import os\n",
    "import math\n",
    "import itertools\n",
    "import json\n",
    "import numpy as np\n",
    "import scipy as scp\n",
    "import matplotlib.pyplot as plt\n",
    "import scipy.linalg as la\n",
    "import pandapower as pp\n",
    "\n",
    "\n",
    "from scipy.stats import norm\n",
    "from scipy.stats import uniform\n",
    "from scipy.stats import multinomial\n",
    "from scipy.linalg import pinvh\n",
    "from pandapower import networks\n",
    "\n",
    "from tqdm.notebook import tqdm, trange\n",
    "import time "
   ]
  },
  {
   "cell_type": "code",
   "execution_count": 3,
   "metadata": {},
   "outputs": [],
   "source": [
    "##### Setup Grid fluctuation parameters and constraints ########\n",
    "\n",
    "## Std considered to be 1: \n",
    "\n",
    "cov_std = 1\n",
    "\n",
    "### Number of samples used in experiments\n",
    "### 500 is often enough\n",
    "### 10000 is a default value supresses the variance\n",
    "\n",
    "#nsmp = 10000; \n",
    "nsmp = 1000; \n",
    "\n",
    "\n",
    "### Step-sizes for KL and Var minimization \n",
    "### works well with 0.1-0.01\n",
    "\n",
    "eta_vm = 0.1; \n",
    "eta_kl = 0.1; \n",
    "\n",
    "### Rounding threshold in optimization: \n",
    "### if a (normalized on the simplex) hpl probability becomes lower then 0.001\n",
    "### we increase it to this level\n",
    "###\n",
    "### Crucially affects numerical stability\n",
    "###\n",
    "\n",
    "eps = 0.001"
   ]
  },
  {
   "cell_type": "code",
   "execution_count": 27,
   "metadata": {},
   "outputs": [],
   "source": [
    "##### Setup regular polytope ########\n",
    "### number of planes and distance\n",
    "J = 360\n",
    "tau = 3\n",
    "\n",
    "\n",
    "### Matrix \n",
    "x_An = []\n",
    "### Matrix rows\n",
    "for i in range(J):\n",
    "    x_An.append([math.sin(2 * math.pi * i / (J - 1)), math.cos(2 * math.pi * i / (J - 1))])\n",
    "x_An = np.array(x_An)\n",
    "### Distances\n",
    "x_bn = np.ones(J) * tau\n",
    "n = x_An.shape[1]"
   ]
  },
  {
   "cell_type": "code",
   "execution_count": 28,
   "metadata": {},
   "outputs": [
    {
     "name": "stdout",
     "output_type": "stream",
     "text": [
      "the union bound (upper): 0.4859632913868336\n",
      "the max bound (lower): 0.0013498980316300933\n"
     ]
    }
   ],
   "source": [
    "### Compute probabilities:\n",
    "### prb: probability of each hpl failure \n",
    "### p_up, p_dwn: upper and lower bounds\n",
    "###\n",
    "\n",
    "prb = norm.cdf(-x_bn);\n",
    "p_up = np.sum(prb);\n",
    "p_dwn = np.max(prb);\n",
    "\n",
    "print(\"the union bound (upper):\", p_up)\n",
    "print(\"the max bound (lower):\", p_dwn)"
   ]
  },
  {
   "cell_type": "code",
   "execution_count": 67,
   "metadata": {
    "scrolled": true
   },
   "outputs": [
    {
     "name": "stdout",
     "output_type": "stream",
     "text": [
      "Max # of hlps a sample if out of:  89\n",
      "\n",
      "MC(exp, std): (0.019000000000000017, 0.038229450408979605)\n"
     ]
    }
   ],
   "source": [
    "############# Monte-Carlo ##################\n",
    "\n",
    "rv = norm(); \n",
    "x_std = norm.rvs(size=[n,nsmp])\n",
    "smp = x_An@x_std\n",
    "\n",
    "### fls_mc = failures in Monte-Carlo, e.g. \n",
    "### when MC discovers a failure\n",
    "###\n",
    "\n",
    "### probability estimates history\n",
    "mc_exp_history = []\n",
    "mc_std_history = []\n",
    "\n",
    "fls_mc = sum((x_bn <= smp.T[:]).T); \n",
    "print(\"Max # of hlps a sample if out of: \", np.max(fls_mc))\n",
    "\n",
    "### MC failure expectation and std\n",
    "###\n",
    "\n",
    "for i in range(nsmp):\n",
    "    mc_exp_history.append((1 - np.sum(fls_mc[:i] == 0)/(i + 1)))\n",
    "    mc_std_history.append(np.std(mc_exp_history))\n",
    "\n",
    "mc_exp = (1 - np.sum(fls_mc == 0)/nsmp);\n",
    "mc_std = mc_std_history[-1];\n",
    "# violation_dict = {}\n",
    "# for i in range(0,np.max(fls_mc)+1):\n",
    "#     print(i, \"hpls violated (exactly) vs # cases\",  np.sum(fls_mc == i))\n",
    "#     violation_dict[i] = int(np.sum(fls_mc == i))\n",
    "\n",
    "print(\"\\nMC(exp, std):\", (mc_exp, mc_std)); \n",
    "\n",
    "### write into file\n",
    "# path_to_viol_dirs = os.path.join(\"results\", \"hplns_violations\")\n",
    "# with open(os.path.join(path_to_viol_dirs, \"grid3120\", \"result.json\"), 'w+') as fp:\n",
    "#     json.dump(violation_dict, fp)"
   ]
  },
  {
   "cell_type": "code",
   "execution_count": 45,
   "metadata": {},
   "outputs": [
    {
     "name": "stdout",
     "output_type": "stream",
     "text": [
      "ALOE prbs for major hpls:  [0.00277778 0.00277778 0.00277778 0.00277778 0.00277778 0.00277778\n",
      " 0.00277778 0.00277778 0.00277778 0.00277778 0.00277778 0.00277778\n",
      " 0.00277778 0.00277778 0.00277778 0.00277778 0.00277778 0.00277778\n",
      " 0.00277778 0.00277778 0.00277778 0.00277778 0.00277778 0.00277778\n",
      " 0.00277778 0.00277778 0.00277778 0.00277778 0.00277778 0.00277778\n",
      " 0.00277778 0.00277778 0.00277778 0.00277778 0.00277778 0.00277778\n",
      " 0.00277778 0.00277778 0.00277778 0.00277778 0.00277778 0.00277778\n",
      " 0.00277778 0.00277778 0.00277778 0.00277778 0.00277778 0.00277778\n",
      " 0.00277778 0.00277778 0.00277778 0.00277778 0.00277778 0.00277778\n",
      " 0.00277778 0.00277778 0.00277778 0.00277778 0.00277778 0.00277778\n",
      " 0.00277778 0.00277778 0.00277778 0.00277778 0.00277778 0.00277778\n",
      " 0.00277778 0.00277778 0.00277778 0.00277778 0.00277778 0.00277778\n",
      " 0.00277778 0.00277778 0.00277778 0.00277778 0.00277778 0.00277778\n",
      " 0.00277778 0.00277778 0.00277778 0.00277778 0.00277778 0.00277778\n",
      " 0.00277778 0.00277778 0.00277778 0.00277778 0.00277778 0.00277778\n",
      " 0.00277778 0.00277778 0.00277778 0.00277778 0.00277778 0.00277778\n",
      " 0.00277778 0.00277778 0.00277778 0.00277778 0.00277778 0.00277778\n",
      " 0.00277778 0.00277778 0.00277778 0.00277778 0.00277778 0.00277778\n",
      " 0.00277778 0.00277778 0.00277778 0.00277778 0.00277778 0.00277778\n",
      " 0.00277778 0.00277778 0.00277778 0.00277778 0.00277778 0.00277778\n",
      " 0.00277778 0.00277778 0.00277778 0.00277778 0.00277778 0.00277778\n",
      " 0.00277778 0.00277778 0.00277778 0.00277778 0.00277778 0.00277778\n",
      " 0.00277778 0.00277778 0.00277778 0.00277778 0.00277778 0.00277778\n",
      " 0.00277778 0.00277778 0.00277778 0.00277778 0.00277778 0.00277778\n",
      " 0.00277778 0.00277778 0.00277778 0.00277778 0.00277778 0.00277778\n",
      " 0.00277778 0.00277778 0.00277778 0.00277778 0.00277778 0.00277778\n",
      " 0.00277778 0.00277778 0.00277778 0.00277778 0.00277778 0.00277778\n",
      " 0.00277778 0.00277778 0.00277778 0.00277778 0.00277778 0.00277778\n",
      " 0.00277778 0.00277778 0.00277778 0.00277778 0.00277778 0.00277778\n",
      " 0.00277778 0.00277778 0.00277778 0.00277778 0.00277778 0.00277778\n",
      " 0.00277778 0.00277778 0.00277778 0.00277778 0.00277778 0.00277778\n",
      " 0.00277778 0.00277778 0.00277778 0.00277778 0.00277778 0.00277778\n",
      " 0.00277778 0.00277778 0.00277778 0.00277778 0.00277778 0.00277778\n",
      " 0.00277778 0.00277778 0.00277778 0.00277778 0.00277778 0.00277778\n",
      " 0.00277778 0.00277778 0.00277778 0.00277778 0.00277778 0.00277778\n",
      " 0.00277778 0.00277778 0.00277778 0.00277778 0.00277778 0.00277778\n",
      " 0.00277778 0.00277778 0.00277778 0.00277778 0.00277778 0.00277778\n",
      " 0.00277778 0.00277778 0.00277778 0.00277778 0.00277778 0.00277778\n",
      " 0.00277778 0.00277778 0.00277778 0.00277778 0.00277778 0.00277778\n",
      " 0.00277778 0.00277778 0.00277778 0.00277778 0.00277778 0.00277778\n",
      " 0.00277778 0.00277778 0.00277778 0.00277778 0.00277778 0.00277778\n",
      " 0.00277778 0.00277778 0.00277778 0.00277778 0.00277778 0.00277778\n",
      " 0.00277778 0.00277778 0.00277778 0.00277778 0.00277778 0.00277778\n",
      " 0.00277778 0.00277778 0.00277778 0.00277778 0.00277778 0.00277778\n",
      " 0.00277778 0.00277778 0.00277778 0.00277778 0.00277778 0.00277778\n",
      " 0.00277778 0.00277778 0.00277778 0.00277778 0.00277778 0.00277778\n",
      " 0.00277778 0.00277778 0.00277778 0.00277778 0.00277778 0.00277778\n",
      " 0.00277778 0.00277778 0.00277778 0.00277778 0.00277778 0.00277778\n",
      " 0.00277778 0.00277778 0.00277778 0.00277778 0.00277778 0.00277778\n",
      " 0.00277778 0.00277778 0.00277778 0.00277778 0.00277778 0.00277778\n",
      " 0.00277778 0.00277778 0.00277778 0.00277778 0.00277778 0.00277778\n",
      " 0.00277778 0.00277778 0.00277778 0.00277778 0.00277778 0.00277778\n",
      " 0.00277778 0.00277778 0.00277778 0.00277778 0.00277778 0.00277778\n",
      " 0.00277778 0.00277778 0.00277778 0.00277778 0.00277778 0.00277778\n",
      " 0.00277778 0.00277778 0.00277778 0.00277778 0.00277778 0.00277778\n",
      " 0.00277778 0.00277778 0.00277778 0.00277778 0.00277778 0.00277778\n",
      " 0.00277778 0.00277778 0.00277778 0.00277778 0.00277778 0.00277778\n",
      " 0.00277778 0.00277778 0.00277778 0.00277778 0.00277778 0.00277778\n",
      " 0.00277778 0.00277778 0.00277778 0.00277778 0.00277778 0.00277778\n",
      " 0.00277778 0.00277778 0.00277778 0.00277778 0.00277778 0.00277778]\n"
     ]
    },
    {
     "name": "stderr",
     "output_type": "stream",
     "text": [
      "c:\\users\\aleks\\appdata\\local\\programs\\python\\python37\\lib\\site-packages\\ipykernel_launcher.py:58: DeprecationWarning: In future, it will be an error for 'np.bool_' scalars to be interpreted as an index\n"
     ]
    },
    {
     "name": "stdout",
     "output_type": "stream",
     "text": [
      "ALOE (exp, std) (0.011023398129255471, 0.41235352649683704)\n"
     ]
    }
   ],
   "source": [
    "############# ALOE ##################\n",
    "### \n",
    "### Exactly follows to the Owen/Maximov/Chertkov paper, EJOS'19\n",
    "###\n",
    "### sample z ~ N(0, I_n)\n",
    "### sample u ~ U(0,1)\n",
    "### compute y = F^{-1}(u F(-b_i))\n",
    "### compute x = - (a_i * y + (I - a_i.T * a_i) z)\n",
    "###\n",
    "### Ouput: union bound divided by the expected failure multiplicity\n",
    "###\n",
    "\n",
    "\n",
    "### Initialize samplers\n",
    "###\n",
    "### sample z ~ N(0, I_n) and u ~ U(0,1)\n",
    "### \n",
    "\n",
    "rv = norm();\n",
    "rv_u = uniform();\n",
    "z = norm.rvs(size=[nsmp,n]); \n",
    "u = uniform.rvs(size=[nsmp]);\n",
    "\n",
    "\n",
    "### x_alph is a vector of ALOE probabilities \n",
    "### normalized by a unit simplex\n",
    "###\n",
    "\n",
    "x_alph = prb/np.sum(prb);\n",
    "#print(\"ALOE prbs for major hpls: \", x_alph)\n",
    "\n",
    "### _hpl: how many smpls beyond each of the hpls\n",
    "###\n",
    "\n",
    "_hpl = multinomial.rvs(n = nsmp, p = x_alph);\n",
    "\n",
    "### print(\"# samples per hpl\", _hpl)\n",
    "\n",
    "### Get cummulative sums, which are easier to work with\n",
    "_hpl = list(itertools.accumulate(_hpl))\n",
    "_hpl = np.array(_hpl)\n",
    "\n",
    "### print(\"cusum of # hpls\", _hpl)\n",
    "\n",
    "### Generate samples\n",
    "### x_aloe -- samples generated by ALOE\n",
    "###\n",
    "### TODO: seems optimizable, but I am not sure about memory mgmnt in python\n",
    "x_aloe = np.zeros([nsmp, n]); \n",
    "\n",
    "# index of the active hyperplane\n",
    "hpl_id = 0;\n",
    "\n",
    "### get samples x_aloe according to the algorithm\n",
    "#for i in tqdm(range(0,nsmp)):\n",
    "for i in range(0,nsmp):\n",
    "    ### get index of a hyperplane to sample beyond\n",
    "    hpl_id = (hpl_id, hpl_id+1)[i >= _hpl[hpl_id]];\n",
    "    y = norm.ppf(u[i]*norm.cdf(-x_bn[hpl_id]));\n",
    "    x_aloe[i] = - x_An[hpl_id]*y - z[i] + np.outer(x_An[hpl_id],x_An[hpl_id])@z[i];\n",
    "\n",
    "### test how many constraints are violated\n",
    "smp = x_An@x_aloe.T\n",
    "\n",
    "### compute expectation and std final and history\n",
    "aloe_exp = p_up*np.sum(1./np.sum(x_bn <= smp.T[:],axis=1))/nsmp; \n",
    "aloe_std = p_up*math.sqrt(2*len(_hpl))/math.sqrt(nsmp); # indeed len(_hpl) instead of 2*m in the Thrm\n",
    "aloe_exp_history = [p_up * np.sum(1. / np.sum(x_bn <= (x_An@x_aloe[:i, :].T).T, axis=1)) / (i + 1) for i in range(0,nsmp)]\n",
    "aloe_std_history = [p_up*math.sqrt(2*len(_hpl))/math.sqrt(i + 1) for i in range(0, nsmp)]\n",
    "\n",
    "\n",
    "print(\"ALOE (exp, std)\", (aloe_exp, aloe_std))"
   ]
  },
  {
   "cell_type": "code",
   "execution_count": 46,
   "metadata": {},
   "outputs": [
    {
     "data": {
      "text/plain": [
       "[<matplotlib.lines.Line2D at 0x1e3155177c8>]"
      ]
     },
     "execution_count": 46,
     "metadata": {},
     "output_type": "execute_result"
    },
    {
     "data": {
      "image/png": "[encoded data removed]",
      "text/plain": [
       "<Figure size 1332x396 with 2 Axes>"
      ]
     },
     "metadata": {
      "needs_background": "light"
     },
     "output_type": "display_data"
    }
   ],
   "source": [
    "\n",
    "fig, (ax1, ax2) = plt.subplots(1, 2)\n",
    "fig.set_size_inches(18.5, 5.5)\n",
    "ax1.set_title(r'$\\pi$')\n",
    "ax1.plot(aloe_exp_history[1:])\n",
    "ax2.set_title('std')\n",
    "ax2.plot(aloe_std_history[1:])\n"
   ]
  },
  {
   "cell_type": "code",
   "execution_count": 50,
   "metadata": {},
   "outputs": [
    {
     "data": {
      "application/vnd.jupyter.widget-view+json": {
       "model_id": "ec47bb33df5448b8b336c7ccdeb446b7",
       "version_major": 2,
       "version_minor": 0
      },
      "text/plain": [
       "  0%|          | 0/1000 [00:00<?, ?it/s]"
      ]
     },
     "metadata": {},
     "output_type": "display_data"
    },
    {
     "name": "stdout",
     "output_type": "stream",
     "text": [
      "Optimal weigths of MD-Var minimization:  [0.0027754  0.00277601 0.00277726 0.00277717 0.00277732 0.00277712\n",
      " 0.00277742 0.0027768  0.00277746 0.00277718 0.00277693 0.00277681\n",
      " 0.00277623 0.00277617 0.00277637 0.00277843 0.00277898 0.00277896\n",
      " 0.00277897 0.0027784  0.00277774 0.00277783 0.00277795 0.00277795\n",
      " 0.00277787 0.00277633 0.00277798 0.00277828 0.00277814 0.00277828\n",
      " 0.00277798 0.00277777 0.0027778  0.00277719 0.00277775 0.00277772\n",
      " 0.00277853 0.00277855 0.00277838 0.00277836 0.00277733 0.00277727\n",
      " 0.00277759 0.00277742 0.0027776  0.00278038 0.00278043 0.00278041\n",
      " 0.00278041 0.00278054 0.00277939 0.00277891 0.00277762 0.00277708\n",
      " 0.00277456 0.00277457 0.00277446 0.00277484 0.00277477 0.00277529\n",
      " 0.00277686 0.00277669 0.002777   0.00277676 0.0027787  0.00277917\n",
      " 0.00277962 0.00277951 0.00277923 0.00277948 0.00278045 0.00278038\n",
      " 0.00278051 0.00277919 0.00277889 0.00277765 0.00277764 0.00277757\n",
      " 0.00277747 0.00277763 0.00277836 0.00277794 0.00277792 0.00277833\n",
      " 0.00277832 0.00277858 0.00277861 0.00277838 0.00277814 0.00277795\n",
      " 0.00277782 0.0027774  0.00277738 0.00277722 0.0027771  0.00277657\n",
      " 0.00277697 0.00277697 0.00277645 0.00277596 0.00277776 0.00277739\n",
      " 0.00277708 0.00277706 0.0027768  0.00277648 0.00277685 0.00277672\n",
      " 0.00277651 0.0027764  0.00277667 0.00277668 0.0027753  0.00277551\n",
      " 0.00277546 0.00277554 0.00277487 0.00277493 0.00277473 0.00277449\n",
      " 0.0027881  0.00278875 0.0027887  0.00278889 0.0027754  0.00277529\n",
      " 0.0027767  0.00277684 0.00277735 0.00277695 0.00277796 0.00277781\n",
      " 0.0027779  0.00277829 0.00277816 0.00277824 0.0027783  0.00277899\n",
      " 0.00277903 0.002779   0.002779   0.00277899 0.00277877 0.00277867\n",
      " 0.00277878 0.00277823 0.00277732 0.00277734 0.00277734 0.00277746\n",
      " 0.0027777  0.00277768 0.00277767 0.00277763 0.00277642 0.00277615\n",
      " 0.00277588 0.00277539 0.00277565 0.00278164 0.00278237 0.00278642\n",
      " 0.00278642 0.00278637 0.00278627 0.00277997 0.00277993 0.00278008\n",
      " 0.0027758  0.00277619 0.00277636 0.0027766  0.00277676 0.00277655\n",
      " 0.00277695 0.00277688 0.00277595 0.00277576 0.00277673 0.00277682\n",
      " 0.00277692 0.00277783 0.00277781 0.00277789 0.00277804 0.00277787\n",
      " 0.00277775 0.00277736 0.00277754 0.00277755 0.00277764 0.00277799\n",
      " 0.00277814 0.00277713 0.00277708 0.00277713 0.00277698 0.00277635\n",
      " 0.00277606 0.00277612 0.00277591 0.00277582 0.00277605 0.00277587\n",
      " 0.00277614 0.00277601 0.00277526 0.00277551 0.00277564 0.00277604\n",
      " 0.00277658 0.00277673 0.00277665 0.00277632 0.00277585 0.00277612\n",
      " 0.00277638 0.00277628 0.00277634 0.00277625 0.00277674 0.00277691\n",
      " 0.00277668 0.00277688 0.00277718 0.0027771  0.00277683 0.00277724\n",
      " 0.00277694 0.00277755 0.00277755 0.00277734 0.00277701 0.00277731\n",
      " 0.00277749 0.00277684 0.00277648 0.00277652 0.00277614 0.00277618\n",
      " 0.00277563 0.00277616 0.00277611 0.00277601 0.00277614 0.00277821\n",
      " 0.00277755 0.00277823 0.00277812 0.00277814 0.00277816 0.00277816\n",
      " 0.00277894 0.00277902 0.00277932 0.00277977 0.00277808 0.00277819\n",
      " 0.00277841 0.00277883 0.00277862 0.0027785  0.00277843 0.00277801\n",
      " 0.00277891 0.00277656 0.00277704 0.00277713 0.00277611 0.0027761\n",
      " 0.00277525 0.0027753  0.00277569 0.00277541 0.00277567 0.00277584\n",
      " 0.00277623 0.00277657 0.00277829 0.00277869 0.00277968 0.00277939\n",
      " 0.00277869 0.00277903 0.00277906 0.00277911 0.0027783  0.00277883\n",
      " 0.00277896 0.0027855  0.00278541 0.00278457 0.00278425 0.00278418\n",
      " 0.00278298 0.00277714 0.0027771  0.00277719 0.00277711 0.00277695\n",
      " 0.00277693 0.00277653 0.0027768  0.00277691 0.00277668 0.00277679\n",
      " 0.00277733 0.00277813 0.00277787 0.00277772 0.00277809 0.00277798\n",
      " 0.00277836 0.00277764 0.00277765 0.00277747 0.00277796 0.00277793\n",
      " 0.00277811 0.00277782 0.00277764 0.00277782 0.00277707 0.00277707\n",
      " 0.00277641 0.00277756 0.00277737 0.00277714 0.0027773  0.00277749\n",
      " 0.00278038 0.00278048 0.00278036 0.00278015 0.00278026 0.00278016\n",
      " 0.00278021 0.00278038 0.00278065 0.00277792 0.00277757 0.00277782\n",
      " 0.0027777  0.00277738 0.0027776  0.00277726 0.00277736 0.00277625\n",
      " 0.00277633 0.00277675 0.00277678 0.00277688 0.0027768  0.00277656\n",
      " 0.00277614 0.00277561 0.00277559 0.00277539 0.00277528 0.0027754 ]\n",
      "Optimal weigths of ALOE [0.00277778 0.00277778 0.00277778 0.00277778 0.00277778 0.00277778\n",
      " 0.00277778 0.00277778 0.00277778 0.00277778 0.00277778 0.00277778\n",
      " 0.00277778 0.00277778 0.00277778 0.00277778 0.00277778 0.00277778\n",
      " 0.00277778 0.00277778 0.00277778 0.00277778 0.00277778 0.00277778\n",
      " 0.00277778 0.00277778 0.00277778 0.00277778 0.00277778 0.00277778\n",
      " 0.00277778 0.00277778 0.00277778 0.00277778 0.00277778 0.00277778\n",
      " 0.00277778 0.00277778 0.00277778 0.00277778 0.00277778 0.00277778\n",
      " 0.00277778 0.00277778 0.00277778 0.00277778 0.00277778 0.00277778\n",
      " 0.00277778 0.00277778 0.00277778 0.00277778 0.00277778 0.00277778\n",
      " 0.00277778 0.00277778 0.00277778 0.00277778 0.00277778 0.00277778\n",
      " 0.00277778 0.00277778 0.00277778 0.00277778 0.00277778 0.00277778\n",
      " 0.00277778 0.00277778 0.00277778 0.00277778 0.00277778 0.00277778\n",
      " 0.00277778 0.00277778 0.00277778 0.00277778 0.00277778 0.00277778\n",
      " 0.00277778 0.00277778 0.00277778 0.00277778 0.00277778 0.00277778\n",
      " 0.00277778 0.00277778 0.00277778 0.00277778 0.00277778 0.00277778\n",
      " 0.00277778 0.00277778 0.00277778 0.00277778 0.00277778 0.00277778\n",
      " 0.00277778 0.00277778 0.00277778 0.00277778 0.00277778 0.00277778\n",
      " 0.00277778 0.00277778 0.00277778 0.00277778 0.00277778 0.00277778\n",
      " 0.00277778 0.00277778 0.00277778 0.00277778 0.00277778 0.00277778\n",
      " 0.00277778 0.00277778 0.00277778 0.00277778 0.00277778 0.00277778\n",
      " 0.00277778 0.00277778 0.00277778 0.00277778 0.00277778 0.00277778\n",
      " 0.00277778 0.00277778 0.00277778 0.00277778 0.00277778 0.00277778\n",
      " 0.00277778 0.00277778 0.00277778 0.00277778 0.00277778 0.00277778\n",
      " 0.00277778 0.00277778 0.00277778 0.00277778 0.00277778 0.00277778\n",
      " 0.00277778 0.00277778 0.00277778 0.00277778 0.00277778 0.00277778\n",
      " 0.00277778 0.00277778 0.00277778 0.00277778 0.00277778 0.00277778\n",
      " 0.00277778 0.00277778 0.00277778 0.00277778 0.00277778 0.00277778\n",
      " 0.00277778 0.00277778 0.00277778 0.00277778 0.00277778 0.00277778\n",
      " 0.00277778 0.00277778 0.00277778 0.00277778 0.00277778 0.00277778\n",
      " 0.00277778 0.00277778 0.00277778 0.00277778 0.00277778 0.00277778\n",
      " 0.00277778 0.00277778 0.00277778 0.00277778 0.00277778 0.00277778\n",
      " 0.00277778 0.00277778 0.00277778 0.00277778 0.00277778 0.00277778\n",
      " 0.00277778 0.00277778 0.00277778 0.00277778 0.00277778 0.00277778\n",
      " 0.00277778 0.00277778 0.00277778 0.00277778 0.00277778 0.00277778\n",
      " 0.00277778 0.00277778 0.00277778 0.00277778 0.00277778 0.00277778\n",
      " 0.00277778 0.00277778 0.00277778 0.00277778 0.00277778 0.00277778\n",
      " 0.00277778 0.00277778 0.00277778 0.00277778 0.00277778 0.00277778\n",
      " 0.00277778 0.00277778 0.00277778 0.00277778 0.00277778 0.00277778\n",
      " 0.00277778 0.00277778 0.00277778 0.00277778 0.00277778 0.00277778\n",
      " 0.00277778 0.00277778 0.00277778 0.00277778 0.00277778 0.00277778\n",
      " 0.00277778 0.00277778 0.00277778 0.00277778 0.00277778 0.00277778\n",
      " 0.00277778 0.00277778 0.00277778 0.00277778 0.00277778 0.00277778\n",
      " 0.00277778 0.00277778 0.00277778 0.00277778 0.00277778 0.00277778\n",
      " 0.00277778 0.00277778 0.00277778 0.00277778 0.00277778 0.00277778\n",
      " 0.00277778 0.00277778 0.00277778 0.00277778 0.00277778 0.00277778\n",
      " 0.00277778 0.00277778 0.00277778 0.00277778 0.00277778 0.00277778\n",
      " 0.00277778 0.00277778 0.00277778 0.00277778 0.00277778 0.00277778\n",
      " 0.00277778 0.00277778 0.00277778 0.00277778 0.00277778 0.00277778\n",
      " 0.00277778 0.00277778 0.00277778 0.00277778 0.00277778 0.00277778\n",
      " 0.00277778 0.00277778 0.00277778 0.00277778 0.00277778 0.00277778\n",
      " 0.00277778 0.00277778 0.00277778 0.00277778 0.00277778 0.00277778\n",
      " 0.00277778 0.00277778 0.00277778 0.00277778 0.00277778 0.00277778\n",
      " 0.00277778 0.00277778 0.00277778 0.00277778 0.00277778 0.00277778\n",
      " 0.00277778 0.00277778 0.00277778 0.00277778 0.00277778 0.00277778\n",
      " 0.00277778 0.00277778 0.00277778 0.00277778 0.00277778 0.00277778\n",
      " 0.00277778 0.00277778 0.00277778 0.00277778 0.00277778 0.00277778\n",
      " 0.00277778 0.00277778 0.00277778 0.00277778 0.00277778 0.00277778\n",
      " 0.00277778 0.00277778 0.00277778 0.00277778 0.00277778 0.00277778\n",
      " 0.00277778 0.00277778 0.00277778 0.00277778 0.00277778 0.00277778\n",
      " 0.00277778 0.00277778 0.00277778 0.00277778 0.00277778 0.00277778]\n",
      "MD-Var (exp, std) (0.011189212533602551, 5.659928960263979e-05)\n"
     ]
    }
   ],
   "source": [
    "####### Optimization approach ######\n",
    "#######\n",
    "####### Variance Minimization ######\n",
    "####### \n",
    "\n",
    "\n",
    "### setup the initial values\n",
    "\n",
    "eta = eta_vm; \n",
    "md_var = 0; \n",
    "md_exp = 0;\n",
    "grad = np.zeros(len(x_bn)); #gradient on each iteration\n",
    "_hpl = np.zeros(nsmp); # hpls choosen by the method \n",
    "\n",
    "### intentionally use a copy instead of a reference\n",
    "### alph is a vector of weigths to be updated in algorithm\n",
    "###\n",
    "\n",
    "alph = x_alph[:];\n",
    "\n",
    "### history of probability estimate and std\n",
    "md_exp_history = []\n",
    "md_std_history = []\n",
    "\n",
    "# values for Phi (x_bn)\n",
    "x_phi = [norm.cdf(-x_bn[i]) for i in range(0, len(x_bn))]\n",
    "\n",
    "### grad normalization by prbs[i] factor is introduced to make computations numerically stable\n",
    "###\n",
    "\n",
    "prbs = prb;\n",
    "\n",
    "for i in tqdm(range(0,nsmp)):\n",
    "    \n",
    "    ### sample x according to current alph\n",
    "    hpl_id = np.where(multinomial.rvs(n=1,p = alph, size=1, random_state=None)[0] == 1)[0];\n",
    "    _hpl[i] = hpl_id;        \n",
    "    \n",
    "    ### generate a sample following to the ALOE procedure\n",
    "    y = norm.ppf(u[i]*norm.cdf(-x_bn[hpl_id]));\n",
    "    \n",
    "    x_smp = - x_An[hpl_id]*y - z[i] + np.outer(x_An[hpl_id],x_An[hpl_id])@z[i];\n",
    "    \n",
    "    ### the RHS' to be compared with x_bn\n",
    "    x_smp = x_An@x_smp.T;\n",
    "\n",
    "    ### results of constraints violations for each generated object\n",
    "    cns_vlt = (x_bn <= x_smp.T[:])[0]\n",
    "    \n",
    "    ### weight vector defined by the multiplicity of constraint violation for each sample\n",
    "    wgt = 1./np.sum(np.multiply(cns_vlt, np.multiply(alph, 1./x_alph))); \n",
    "    \n",
    "    \n",
    "    ### compute gradient of the variance, see the paper (our + OMC) for details\n",
    "    grad = [-p_up*p_up*wgt*wgt*norm.pdf(x_smp[k])[0]*cns_vlt[k]/prbs[k] for k in range(len(x_smp))];\n",
    "    grad = np.array(grad)\n",
    "\n",
    "    \n",
    "    ### The gradient is high -- signal about emergency as it can zero out all weights\n",
    "    if (la.norm(eta*grad)>1e4):\n",
    "        print(\"\\n##############    Extremely high gradient      ############\\n\");\n",
    "        print(\"Iteration: \", i, \"\\nGradient:\", grad)\n",
    "    \n",
    "    ### make a ``simplex MD'' update\n",
    "    alph = [math.exp(-eta*grad[k])*alph[k] for k in range(0,len(x_smp))];\n",
    "    \n",
    "\n",
    "    ### enter if some coordinates are too small and may cause numerical instability\n",
    "    ### increase the corresponding weigths\n",
    "    if (np.min(alph) < eps):\n",
    "        print(\"###########  some coordinates are small  #################\")\n",
    "        alph = [alph[k]+eps for k in range(0,len(x_bn))];\n",
    "        \n",
    "    ### make a projection to the unit simplex\n",
    "    alph = alph/np.sum(alph); \n",
    "    \n",
    "    ### adjust contribution to the errors\n",
    "    md_exp = md_exp + wgt;\n",
    "    md_exp_history.append(p_up * md_exp / (i + 1))\n",
    "    md_var = md_var + p_up*np.dot(grad.T,grad);\n",
    "    md_std_history.append(p_up * math.sqrt(md_var) / (i + 1))\n",
    "    \n",
    "    \n",
    "print(\"Optimal weigths of MD-Var minimization: \", alph)\n",
    "print(\"Optimal weigths of ALOE\", x_alph)\n",
    "\n",
    "### normalize errors, compute standard deviation\n",
    "md_exp = p_up*md_exp/nsmp; \n",
    "md_std = p_up*math.sqrt(md_var)/nsmp;\n",
    "\n",
    "print(\"MD-Var (exp, std)\", (md_exp, md_std))\n",
    "#print(\"assert normalization:\", np.sum(alph), np.sum(x_alph))"
   ]
  },
  {
   "cell_type": "code",
   "execution_count": 51,
   "metadata": {},
   "outputs": [
    {
     "data": {
      "text/plain": [
       "[<matplotlib.lines.Line2D at 0x1e3154f3548>]"
      ]
     },
     "execution_count": 51,
     "metadata": {},
     "output_type": "execute_result"
    },
    {
     "data": {
      "image/png": "[encoded data removed]",
      "text/plain": [
       "<Figure size 1332x396 with 2 Axes>"
      ]
     },
     "metadata": {
      "needs_background": "light"
     },
     "output_type": "display_data"
    }
   ],
   "source": [
    "\n",
    "fig, (ax1, ax2) = plt.subplots(1, 2)\n",
    "fig.set_size_inches(18.5, 5.5)\n",
    "ax1.set_title(r'$\\pi$')\n",
    "ax1.plot(md_exp_history[1:])\n",
    "ax2.set_title('std')\n",
    "ax2.plot(md_std_history[1:])\n"
   ]
  },
  {
   "cell_type": "code",
   "execution_count": 52,
   "metadata": {},
   "outputs": [
    {
     "data": {
      "application/vnd.jupyter.widget-view+json": {
       "model_id": "f4fa3208d5b64319a692c61920acdc99",
       "version_major": 2,
       "version_minor": 0
      },
      "text/plain": [
       "  0%|          | 0/1000 [00:00<?, ?it/s]"
      ]
     },
     "metadata": {},
     "output_type": "display_data"
    },
    {
     "name": "stdout",
     "output_type": "stream",
     "text": [
      "Optimal weigths of MD-KL minimization:  [0.00269795 0.0026924  0.00276144 0.00276031 0.00274933 0.00271339\n",
      " 0.00274183 0.00273823 0.0027406  0.00274474 0.00276266 0.00274201\n",
      " 0.00272527 0.00272573 0.0027882  0.00280418 0.00282857 0.00279118\n",
      " 0.00278517 0.00278039 0.00282035 0.00279589 0.00280937 0.00282388\n",
      " 0.00282044 0.00282232 0.00287354 0.00287143 0.00282176 0.00276173\n",
      " 0.00280204 0.00276901 0.00277885 0.00277351 0.00276144 0.00277231\n",
      " 0.002716   0.00268907 0.0026821  0.00269208 0.00270878 0.00272503\n",
      " 0.00269625 0.00271111 0.00271259 0.00268942 0.00268558 0.00266447\n",
      " 0.00266591 0.00266627 0.00269421 0.00271161 0.0027203  0.0027627\n",
      " 0.00274816 0.00273638 0.00276925 0.00278571 0.00276748 0.00277367\n",
      " 0.00278227 0.00278663 0.00281058 0.00280807 0.00280889 0.00278979\n",
      " 0.0028191  0.00281948 0.00283338 0.00286947 0.00286575 0.00295879\n",
      " 0.00294142 0.00294252 0.00291638 0.00292831 0.00293591 0.00291805\n",
      " 0.00292241 0.00294548 0.00292558 0.00292143 0.00295009 0.0029479\n",
      " 0.00294062 0.00296337 0.0029499  0.0029112  0.00287623 0.00280129\n",
      " 0.00278948 0.0027822  0.00278274 0.00274992 0.00274968 0.00276453\n",
      " 0.00274863 0.00275837 0.00274409 0.00273685 0.00271734 0.00270851\n",
      " 0.00267131 0.00264791 0.00265956 0.00264588 0.00262042 0.00263736\n",
      " 0.00263927 0.0026862  0.00266787 0.00269081 0.00269259 0.00271286\n",
      " 0.00269169 0.00268826 0.00269492 0.00270377 0.00271339 0.00270226\n",
      " 0.00271618 0.00273467 0.00271319 0.00276894 0.00276408 0.0027683\n",
      " 0.00275219 0.0027394  0.00280239 0.0027731  0.00276642 0.00277941\n",
      " 0.00276613 0.00273276 0.0027433  0.00273194 0.00271378 0.00268756\n",
      " 0.00268308 0.0026636  0.00261935 0.00259557 0.0026254  0.00263671\n",
      " 0.0026382  0.00261151 0.00261321 0.00260538 0.00262066 0.00262784\n",
      " 0.00261566 0.00262044 0.00265848 0.00265692 0.00266909 0.00266923\n",
      " 0.00267443 0.00271735 0.00272642 0.00275463 0.00277151 0.00274809\n",
      " 0.00279522 0.00280398 0.00282068 0.00279559 0.00280855 0.00279867\n",
      " 0.00283374 0.00278106 0.00278926 0.00281827 0.00281906 0.00279442\n",
      " 0.00278538 0.00277929 0.00279082 0.00282088 0.00281491 0.00281522\n",
      " 0.00283599 0.00281272 0.00276914 0.00279704 0.00277457 0.00277308\n",
      " 0.00279535 0.00273697 0.00272333 0.00274076 0.00271933 0.00268448\n",
      " 0.00266141 0.00265299 0.00265601 0.00266173 0.00266363 0.00265661\n",
      " 0.00266414 0.00269703 0.00268245 0.00273131 0.00271799 0.00275677\n",
      " 0.00277507 0.00278234 0.00280923 0.00280843 0.00279161 0.00279577\n",
      " 0.0028049  0.0027812  0.002785   0.00274238 0.0027675  0.00275393\n",
      " 0.00274501 0.00270539 0.00274456 0.00273401 0.0026867  0.00266874\n",
      " 0.00275279 0.00277996 0.00278109 0.00279978 0.00278661 0.00276451\n",
      " 0.00276688 0.00273885 0.00275096 0.00276027 0.00275191 0.00275119\n",
      " 0.00274071 0.00278867 0.00279023 0.00276449 0.00277628 0.00279202\n",
      " 0.00275793 0.00275337 0.00276554 0.00277737 0.00277239 0.00274908\n",
      " 0.00277275 0.00276432 0.00276743 0.00279961 0.00280065 0.00281993\n",
      " 0.0028348  0.00282284 0.00283057 0.00285168 0.00286604 0.0027867\n",
      " 0.00282505 0.0028384  0.00282896 0.0028006  0.00278306 0.00277872\n",
      " 0.00276522 0.00277046 0.00278221 0.00275846 0.0028075  0.0028183\n",
      " 0.00284925 0.00283755 0.00285972 0.00287393 0.00284777 0.00286675\n",
      " 0.00288855 0.00286473 0.00286295 0.0028397  0.00284086 0.00283095\n",
      " 0.00284287 0.00285664 0.00286468 0.00279511 0.00282251 0.00277591\n",
      " 0.0027963  0.00278244 0.0027998  0.00280362 0.0028045  0.00279753\n",
      " 0.00280057 0.00282734 0.00283078 0.0028391  0.00288514 0.00292385\n",
      " 0.0029253  0.0028886  0.00290898 0.0028819  0.00288626 0.00283094\n",
      " 0.00278088 0.00277634 0.00280408 0.00279553 0.00277652 0.0028401\n",
      " 0.00282034 0.00279735 0.00284383 0.00288553 0.00286931 0.00291868\n",
      " 0.00289676 0.00286595 0.00288983 0.00288602 0.00289863 0.00278875\n",
      " 0.00285078 0.00284192 0.00283849 0.00284639 0.00285437 0.00281851\n",
      " 0.00280452 0.00284939 0.00283545 0.00280233 0.0027868  0.00287877\n",
      " 0.0028541  0.00284325 0.00282769 0.00282224 0.0028227  0.00283109\n",
      " 0.00289457 0.00285724 0.00285824 0.00286803 0.00280411 0.00280077\n",
      " 0.00273757 0.00274812 0.00270815 0.00286188 0.00286276 0.00279782\n",
      " 0.00280382 0.00267099 0.00268383 0.00267372 0.00270399 0.00269795]\n",
      "Optimal weigths of ALOE [0.00277778 0.00277778 0.00277778 0.00277778 0.00277778 0.00277778\n",
      " 0.00277778 0.00277778 0.00277778 0.00277778 0.00277778 0.00277778\n",
      " 0.00277778 0.00277778 0.00277778 0.00277778 0.00277778 0.00277778\n",
      " 0.00277778 0.00277778 0.00277778 0.00277778 0.00277778 0.00277778\n",
      " 0.00277778 0.00277778 0.00277778 0.00277778 0.00277778 0.00277778\n",
      " 0.00277778 0.00277778 0.00277778 0.00277778 0.00277778 0.00277778\n",
      " 0.00277778 0.00277778 0.00277778 0.00277778 0.00277778 0.00277778\n",
      " 0.00277778 0.00277778 0.00277778 0.00277778 0.00277778 0.00277778\n",
      " 0.00277778 0.00277778 0.00277778 0.00277778 0.00277778 0.00277778\n",
      " 0.00277778 0.00277778 0.00277778 0.00277778 0.00277778 0.00277778\n",
      " 0.00277778 0.00277778 0.00277778 0.00277778 0.00277778 0.00277778\n",
      " 0.00277778 0.00277778 0.00277778 0.00277778 0.00277778 0.00277778\n",
      " 0.00277778 0.00277778 0.00277778 0.00277778 0.00277778 0.00277778\n",
      " 0.00277778 0.00277778 0.00277778 0.00277778 0.00277778 0.00277778\n",
      " 0.00277778 0.00277778 0.00277778 0.00277778 0.00277778 0.00277778\n",
      " 0.00277778 0.00277778 0.00277778 0.00277778 0.00277778 0.00277778\n",
      " 0.00277778 0.00277778 0.00277778 0.00277778 0.00277778 0.00277778\n",
      " 0.00277778 0.00277778 0.00277778 0.00277778 0.00277778 0.00277778\n",
      " 0.00277778 0.00277778 0.00277778 0.00277778 0.00277778 0.00277778\n",
      " 0.00277778 0.00277778 0.00277778 0.00277778 0.00277778 0.00277778\n",
      " 0.00277778 0.00277778 0.00277778 0.00277778 0.00277778 0.00277778\n",
      " 0.00277778 0.00277778 0.00277778 0.00277778 0.00277778 0.00277778\n",
      " 0.00277778 0.00277778 0.00277778 0.00277778 0.00277778 0.00277778\n",
      " 0.00277778 0.00277778 0.00277778 0.00277778 0.00277778 0.00277778\n",
      " 0.00277778 0.00277778 0.00277778 0.00277778 0.00277778 0.00277778\n",
      " 0.00277778 0.00277778 0.00277778 0.00277778 0.00277778 0.00277778\n",
      " 0.00277778 0.00277778 0.00277778 0.00277778 0.00277778 0.00277778\n",
      " 0.00277778 0.00277778 0.00277778 0.00277778 0.00277778 0.00277778\n",
      " 0.00277778 0.00277778 0.00277778 0.00277778 0.00277778 0.00277778\n",
      " 0.00277778 0.00277778 0.00277778 0.00277778 0.00277778 0.00277778\n",
      " 0.00277778 0.00277778 0.00277778 0.00277778 0.00277778 0.00277778\n",
      " 0.00277778 0.00277778 0.00277778 0.00277778 0.00277778 0.00277778\n",
      " 0.00277778 0.00277778 0.00277778 0.00277778 0.00277778 0.00277778\n",
      " 0.00277778 0.00277778 0.00277778 0.00277778 0.00277778 0.00277778\n",
      " 0.00277778 0.00277778 0.00277778 0.00277778 0.00277778 0.00277778\n",
      " 0.00277778 0.00277778 0.00277778 0.00277778 0.00277778 0.00277778\n",
      " 0.00277778 0.00277778 0.00277778 0.00277778 0.00277778 0.00277778\n",
      " 0.00277778 0.00277778 0.00277778 0.00277778 0.00277778 0.00277778\n",
      " 0.00277778 0.00277778 0.00277778 0.00277778 0.00277778 0.00277778\n",
      " 0.00277778 0.00277778 0.00277778 0.00277778 0.00277778 0.00277778\n",
      " 0.00277778 0.00277778 0.00277778 0.00277778 0.00277778 0.00277778\n",
      " 0.00277778 0.00277778 0.00277778 0.00277778 0.00277778 0.00277778\n",
      " 0.00277778 0.00277778 0.00277778 0.00277778 0.00277778 0.00277778\n",
      " 0.00277778 0.00277778 0.00277778 0.00277778 0.00277778 0.00277778\n",
      " 0.00277778 0.00277778 0.00277778 0.00277778 0.00277778 0.00277778\n",
      " 0.00277778 0.00277778 0.00277778 0.00277778 0.00277778 0.00277778\n",
      " 0.00277778 0.00277778 0.00277778 0.00277778 0.00277778 0.00277778\n",
      " 0.00277778 0.00277778 0.00277778 0.00277778 0.00277778 0.00277778\n",
      " 0.00277778 0.00277778 0.00277778 0.00277778 0.00277778 0.00277778\n",
      " 0.00277778 0.00277778 0.00277778 0.00277778 0.00277778 0.00277778\n",
      " 0.00277778 0.00277778 0.00277778 0.00277778 0.00277778 0.00277778\n",
      " 0.00277778 0.00277778 0.00277778 0.00277778 0.00277778 0.00277778\n",
      " 0.00277778 0.00277778 0.00277778 0.00277778 0.00277778 0.00277778\n",
      " 0.00277778 0.00277778 0.00277778 0.00277778 0.00277778 0.00277778\n",
      " 0.00277778 0.00277778 0.00277778 0.00277778 0.00277778 0.00277778\n",
      " 0.00277778 0.00277778 0.00277778 0.00277778 0.00277778 0.00277778\n",
      " 0.00277778 0.00277778 0.00277778 0.00277778 0.00277778 0.00277778\n",
      " 0.00277778 0.00277778 0.00277778 0.00277778 0.00277778 0.00277778\n",
      " 0.00277778 0.00277778 0.00277778 0.00277778 0.00277778 0.00277778\n",
      " 0.00277778 0.00277778 0.00277778 0.00277778 0.00277778 0.00277778]\n"
     ]
    },
    {
     "ename": "NameError",
     "evalue": "name 'prb_rmd' is not defined",
     "output_type": "error",
     "traceback": [
      "\u001b[1;31m---------------------------------------------------------------------------\u001b[0m",
      "\u001b[1;31mNameError\u001b[0m                                 Traceback (most recent call last)",
      "\u001b[1;32m<ipython-input-52-0a1179f0533b>\u001b[0m in \u001b[0;36m<module>\u001b[1;34m\u001b[0m\n\u001b[0;32m     75\u001b[0m \u001b[1;33m\u001b[0m\u001b[0m\n\u001b[0;32m     76\u001b[0m \u001b[1;31m### normalize errors\u001b[0m\u001b[1;33m\u001b[0m\u001b[1;33m\u001b[0m\u001b[1;33m\u001b[0m\u001b[0m\n\u001b[1;32m---> 77\u001b[1;33m \u001b[0mkl_exp\u001b[0m \u001b[1;33m=\u001b[0m \u001b[0mp_up\u001b[0m\u001b[1;33m*\u001b[0m\u001b[0mkl_exp\u001b[0m\u001b[1;33m/\u001b[0m\u001b[0mnsmp\u001b[0m \u001b[1;33m+\u001b[0m \u001b[0mprb_rmd\u001b[0m\u001b[1;33m;\u001b[0m\u001b[1;33m\u001b[0m\u001b[1;33m\u001b[0m\u001b[0m\n\u001b[0m\u001b[0;32m     78\u001b[0m \u001b[0mkl_std\u001b[0m \u001b[1;33m=\u001b[0m \u001b[0mp_up\u001b[0m\u001b[1;33m*\u001b[0m\u001b[0mmath\u001b[0m\u001b[1;33m.\u001b[0m\u001b[0msqrt\u001b[0m\u001b[1;33m(\u001b[0m\u001b[0mkl_var\u001b[0m\u001b[1;33m)\u001b[0m\u001b[1;33m/\u001b[0m\u001b[0mnsmp\u001b[0m\u001b[1;33m;\u001b[0m\u001b[1;33m\u001b[0m\u001b[1;33m\u001b[0m\u001b[0m\n\u001b[0;32m     79\u001b[0m \u001b[0mprint\u001b[0m\u001b[1;33m(\u001b[0m\u001b[1;34m\"MD-KL (exp, std)\"\u001b[0m\u001b[1;33m,\u001b[0m \u001b[1;33m(\u001b[0m\u001b[0mkl_exp\u001b[0m\u001b[1;33m,\u001b[0m \u001b[0mkl_std\u001b[0m\u001b[1;33m)\u001b[0m\u001b[1;33m)\u001b[0m\u001b[1;33m\u001b[0m\u001b[1;33m\u001b[0m\u001b[0m\n",
      "\u001b[1;31mNameError\u001b[0m: name 'prb_rmd' is not defined"
     ]
    }
   ],
   "source": [
    "####### Optimization approach ######\n",
    "#######\n",
    "####### KL Minimization ######\n",
    "#######\n",
    "\n",
    "### SMD step-size\n",
    "eta = eta_kl; \n",
    "\n",
    "### setup initial values\n",
    "kl_exp = 0; \n",
    "kl_var = 0; \n",
    "grad = np.zeros(len(x_bn));\n",
    "_hpl = np.zeros(nsmp); ## _hpl[i] = beyond which hpl we sample on iteration i\n",
    "\n",
    "### intentionally use a copy instead of a reference\n",
    "### alph is an optimization variable\n",
    "alph = x_alph[:];\n",
    "\n",
    "### history of probability estimate and std\n",
    "kl_exp_history = []\n",
    "kl_std_history = []\n",
    "\n",
    "### this normalization factor is introduced to make computations numerically stable\n",
    "prbs = prb;\n",
    "\n",
    "\n",
    "for i in tqdm(range(0,nsmp)):#,miniters=500):\n",
    "    \n",
    "    ### sample x according to current alph\n",
    "    hpl_id = np.where(multinomial.rvs(n=1,p = alph, size=1, random_state=None)[0] == 1)[0];\n",
    "    _hpl[i] = hpl_id;        \n",
    "    \n",
    "    ### generate a sample accordint to ALOE\n",
    "    y = norm.ppf(u[i]*norm.cdf(-x_bn[hpl_id]));\n",
    "    x_smp = - x_An[hpl_id]*y - z[i] + np.outer(x_An[hpl_id],x_An[hpl_id])@z[i];\n",
    "    \n",
    "    ### RHS to compare with x_bn\n",
    "    x_smp = x_An@x_smp.T;\n",
    "    \n",
    "    ### results of constraints violations for the generated object\n",
    "    cns_vlt = (x_bn <= x_smp.T[:])[0]\n",
    "    \n",
    "    ### object weight which is set according to ALOE\n",
    "    wgt = 1./np.sum(np.multiply(cns_vlt, np.multiply(alph, 1./x_alph))); \n",
    "    \n",
    "    # the KL divergence's gradient \n",
    "    grad = [-p_up*wgt*norm.pdf(x_smp[k])[0]*cns_vlt[k]/prbs[k] for k in range(len(x_smp))];\n",
    "    grad = np.array(grad)\n",
    "\n",
    "    ### The gradient is high -- signal about emergency as it can zero out all weights\n",
    "    if (la.norm(eta*grad)>1e4):\n",
    "        print(\"\\n##############    Extremely high gradient      ############\\n\");\n",
    "        print(\"Iteration: \", i, \"\\nGradient:\", grad)\n",
    "    \n",
    "    ### make a ``simplex MD'' update\n",
    "    alph = [math.exp(-eta*grad[k])*alph[k] for k in range(0,len(x_smp))];\n",
    "    \n",
    "    ### enter if some coordinates are too small and may cause numerical instability\n",
    "    ### increase the corresponding weigths\n",
    "    if (np.min(alph) < eps):\n",
    "        print(\"###########  some coordinates are small  #################\")\n",
    "        alph = [alph[k]+eps for k in range(0,len(x_bn))];\n",
    "        \n",
    "    ### make a projection to the unit simplex\n",
    "    alph = alph/np.sum(alph); \n",
    "    \n",
    "    ### adjust contribution to the errors\n",
    "    kl_exp = kl_exp + wgt;\n",
    "    kl_exp_history.append(p_up * kl_exp / (i + 1))\n",
    "    kl_var = kl_var + p_up*np.dot(grad.T,grad)*wgt;\n",
    "    kl_std_history.append(p_up * math.sqrt(kl_var) / (i + 1))\n",
    "    \n",
    "print(\"Optimal weigths of MD-KL minimization: \", alph)\n",
    "print(\"Optimal weigths of ALOE\", x_alph)\n",
    "\n",
    "### normalize errors\n",
    "kl_exp = p_up*kl_exp/nsmp; \n",
    "kl_std = p_up*math.sqrt(kl_var)/nsmp;\n",
    "print(\"MD-KL (exp, std)\", (kl_exp, kl_std))\n",
    "\n",
    "#print(\"assert normalization:\", np.sum(alph), np.sum(x_alph))"
   ]
  },
  {
   "cell_type": "code",
   "execution_count": 53,
   "metadata": {},
   "outputs": [
    {
     "data": {
      "text/plain": [
       "[<matplotlib.lines.Line2D at 0x1e31583ed48>]"
      ]
     },
     "execution_count": 53,
     "metadata": {},
     "output_type": "execute_result"
    },
    {
     "data": {
      "image/png": "[encoded data removed]",
      "text/plain": [
       "<Figure size 1332x396 with 2 Axes>"
      ]
     },
     "metadata": {
      "needs_background": "light"
     },
     "output_type": "display_data"
    }
   ],
   "source": [
    "\n",
    "fig, (ax1, ax2) = plt.subplots(1, 2)\n",
    "fig.set_size_inches(18.5, 5.5)\n",
    "ax1.set_title(r'$\\pi$')\n",
    "ax1.plot(kl_exp_history[1:])\n",
    "ax2.set_title('std')\n",
    "ax2.plot(kl_std_history[1:])\n"
   ]
  },
  {
   "cell_type": "code",
   "execution_count": 87,
   "metadata": {},
   "outputs": [
    {
     "name": "stdout",
     "output_type": "stream",
     "text": [
      "the union bound (up): 0.035810970442567994\n",
      "the max bound (lower): 0.02745583715517972\n",
      "MC(exp, std): 0.04206303076613747 0.03162069600895248\n",
      "ALOE(exp, std) 0.03409218453465473 0.0035810970442567997\n",
      "MD-Var(exp, var) 0.03409834060531141 3.9318689405308525e-07\n",
      "MD-KL(exp, var) 0.03358434341789244 2.0835946563090184e-05\n"
     ]
    }
   ],
   "source": [
    "##############  Output all probabilities  ##################\n",
    "\n",
    "print(\"the union bound (up):\", p_up)\n",
    "print(\"the max bound (lower):\", p_dwn)\n",
    "\n",
    "print(\"MC(exp, std):\", mc_exp, mc_std); \n",
    "print(\"ALOE(exp, std)\", aloe_exp, aloe_std)\n",
    "\n",
    "print(\"MD-Var(exp, var)\", md_exp, md_std)\n",
    "print(\"MD-KL(exp, var)\", kl_exp, kl_std)"
   ]
  },
  {
   "cell_type": "code",
   "execution_count": 69,
   "metadata": {},
   "outputs": [
    {
     "data": {
      "text/plain": [
       "<matplotlib.legend.Legend at 0x1e313ca0fc8>"
      ]
     },
     "execution_count": 69,
     "metadata": {},
     "output_type": "execute_result"
    },
    {
     "data": {
      "image/png": "[encoded data removed]",
      "text/plain": [
       "<Figure size 1332x396 with 2 Axes>"
      ]
     },
     "metadata": {
      "needs_background": "light"
     },
     "output_type": "display_data"
    }
   ],
   "source": [
    "fig, (ax1, ax2) = plt.subplots(1, 2)\n",
    "fig.set_size_inches(18.5, 5.5)\n",
    "ax1.set_title(r'$\\pi$')\n",
    "ax1.plot(kl_exp_history[1:], label='KL')\n",
    "ax1.plot(md_exp_history[1:], label='MD')\n",
    "ax1.plot(aloe_exp_history[1:], label='ALOE')\n",
    "ax1.plot(mc_exp_history[1:], label='MC')\n",
    "ax1.set_ylim(min(md_exp_history) - 1e-3, max(md_exp_history) + 1e-3)\n",
    "ax1.legend()\n",
    "ax2.set_title('std')\n",
    "ax2.semilogy(kl_std_history[1:], label='KL')\n",
    "ax2.semilogy(md_std_history[1:], label='MD')\n",
    "ax2.semilogy(aloe_std_history[1:], label='ALOE')\n",
    "ax2.semilogy(mc_std_history[1:], label='MC')\n",
    "#ax2.set_ylim(-1e-7, 0.1)\n",
    "ax2.legend()"
   ]
  },
  {
   "cell_type": "code",
   "execution_count": 81,
   "metadata": {},
   "outputs": [
    {
     "name": "stdout",
     "output_type": "stream",
     "text": [
      "758\n"
     ]
    }
   ],
   "source": [
    "#min(md_std_history)\n",
    "for (i, guy) in enumerate((np.array(md_std_history) <= 0.7*1e-4)[::-1]):\n",
    "    if not guy:\n",
    "        print(nsmp - i)\n",
    "        break"
   ]
  },
  {
   "cell_type": "code",
   "execution_count": null,
   "metadata": {},
   "outputs": [],
   "source": [
    "\n",
    "  "
   ]
  },
  {
   "cell_type": "code",
   "execution_count": null,
   "metadata": {},
   "outputs": [],
   "source": []
  },
  {
   "cell_type": "code",
   "execution_count": null,
   "metadata": {},
   "outputs": [],
   "source": []
  },
  {
   "cell_type": "code",
   "execution_count": null,
   "metadata": {},
   "outputs": [],
   "source": []
  },
  {
   "cell_type": "code",
   "execution_count": null,
   "metadata": {},
   "outputs": [],
   "source": []
  },
  {
   "cell_type": "code",
   "execution_count": null,
   "metadata": {},
   "outputs": [],
   "source": []
  },
  {
   "cell_type": "code",
   "execution_count": null,
   "metadata": {},
   "outputs": [],
   "source": []
  },
  {
   "cell_type": "code",
   "execution_count": null,
   "metadata": {},
   "outputs": [],
   "source": []
  },
  {
   "cell_type": "code",
   "execution_count": null,
   "metadata": {},
   "outputs": [],
   "source": []
  },
  {
   "cell_type": "code",
   "execution_count": null,
   "metadata": {},
   "outputs": [],
   "source": []
  },
  {
   "cell_type": "code",
   "execution_count": null,
   "metadata": {},
   "outputs": [],
   "source": []
  },
  {
   "cell_type": "code",
   "execution_count": null,
   "metadata": {},
   "outputs": [],
   "source": [
    "# check what python distributions can do and how well\n",
    "\n",
    "print(\"--------------------\\n Sanity check:\\n\")\n",
    "# cdf (x, mean, std)\n",
    "z = -12; \n",
    "print(\"cdf/ppf: \", z == norm.ppf(norm.cdf(z,0,1), 0, 1));\n",
    "\n",
    "# test linear algebra \n",
    "print(\"la/norm: \", la.norm(z) == -z);\n",
    "\n",
    "A = np.matrix([[4,0.5,0,0],[0.5,1,0,0],[0,0,1,0],[0,0,0,1.]])\n",
    "\n",
    "L = la.cholesky(A, lower = True)\n",
    "\n",
    "# A  = LL'\n",
    "print(\"la/cholesky: \", 0 == np.sum(A != L@L.T))\n",
    "\n",
    "B = np.matrix([[0,0,0],[0,5,0],[0,0,1]]);\n",
    "B_pnv = la.pinvh(B)\n",
    "print(\"la/pinv: \", 0 == np.sum(B != B@(B@B_pnv)))"
   ]
  },
  {
   "cell_type": "code",
   "execution_count": null,
   "metadata": {},
   "outputs": [],
   "source": []
  },
  {
   "cell_type": "code",
   "execution_count": null,
   "metadata": {},
   "outputs": [],
   "source": []
  },
  {
   "cell_type": "code",
   "execution_count": null,
   "metadata": {},
   "outputs": [],
   "source": [
    "## conditional sampling outside of a hyperplane\n",
    "## a separate test for 1 dimensional case\n",
    "\n",
    "# sample z ~ N(0, I_n) and u ~ U(0,1)\n",
    "\"\"\"\n",
    "d = 1;\n",
    "_z = norm.rvs(size=[nsmp,d]); \n",
    "_u = uniform.rvs(size=[nsmp]);\n",
    "\n",
    "x_test = np.zeros([nsmp, d]); \n",
    "thrs = 3;\n",
    "a = np.array([1]);\n",
    "\n",
    "for i in range(0,nsmp):\n",
    "    ## get index of a hyperplane    \n",
    "    y = norm.ppf(_u[i]*norm.cdf(-thrs));\n",
    "    x_test[i] = - a*y - _z[i] + np.outer(a,a)@_z[i];\n",
    "\n",
    "_ans = np.sort(x_test.T[0])\n",
    "    \n",
    "# check number of items falls into 3.5 +, 3.75+ and 4+\n",
    "print(np.sum(_ans > 4)/nsmp, norm.cdf(-4)/norm.cdf(-3))\n",
    "print(np.sum(_ans > 3.75)/nsmp, norm.cdf(-3.75)/norm.cdf(-3))\n",
    "print(np.sum(_ans > 3.5)/nsmp, norm.cdf(-3.5)/norm.cdf(-3))\n",
    "\n",
    "\"\"\"\n"
   ]
  },
  {
   "cell_type": "code",
   "execution_count": null,
   "metadata": {},
   "outputs": [],
   "source": []
  },
  {
   "cell_type": "code",
   "execution_count": null,
   "metadata": {},
   "outputs": [],
   "source": []
  },
  {
   "cell_type": "code",
   "execution_count": null,
   "metadata": {},
   "outputs": [],
   "source": []
  },
  {
   "cell_type": "code",
   "execution_count": null,
   "metadata": {},
   "outputs": [],
   "source": []
  },
  {
   "cell_type": "code",
   "execution_count": null,
   "metadata": {},
   "outputs": [],
   "source": []
  },
  {
   "cell_type": "code",
   "execution_count": null,
   "metadata": {},
   "outputs": [],
   "source": []
  },
  {
   "cell_type": "code",
   "execution_count": null,
   "metadata": {},
   "outputs": [],
   "source": []
  },
  {
   "cell_type": "code",
   "execution_count": null,
   "metadata": {},
   "outputs": [],
   "source": []
  },
  {
   "cell_type": "code",
   "execution_count": null,
   "metadata": {},
   "outputs": [],
   "source": []
  },
  {
   "cell_type": "code",
   "execution_count": null,
   "metadata": {},
   "outputs": [],
   "source": []
  },
  {
   "cell_type": "code",
   "execution_count": null,
   "metadata": {},
   "outputs": [],
   "source": []
  },
  {
   "cell_type": "code",
   "execution_count": null,
   "metadata": {},
   "outputs": [],
   "source": []
  },
  {
   "cell_type": "code",
   "execution_count": null,
   "metadata": {},
   "outputs": [],
   "source": []
  },
  {
   "cell_type": "code",
   "execution_count": null,
   "metadata": {},
   "outputs": [],
   "source": []
  },
  {
   "cell_type": "code",
   "execution_count": null,
   "metadata": {},
   "outputs": [],
   "source": []
  },
  {
   "cell_type": "code",
   "execution_count": null,
   "metadata": {},
   "outputs": [],
   "source": []
  },
  {
   "cell_type": "code",
   "execution_count": null,
   "metadata": {},
   "outputs": [],
   "source": []
  },
  {
   "cell_type": "code",
   "execution_count": null,
   "metadata": {},
   "outputs": [],
   "source": []
  },
  {
   "cell_type": "code",
   "execution_count": null,
   "metadata": {},
   "outputs": [],
   "source": []
  },
  {
   "cell_type": "code",
   "execution_count": null,
   "metadata": {},
   "outputs": [],
   "source": []
  },
  {
   "cell_type": "markdown",
   "metadata": {},
   "source": []
  },
  {
   "cell_type": "code",
   "execution_count": null,
   "metadata": {},
   "outputs": [],
   "source": []
  },
  {
   "cell_type": "code",
   "execution_count": null,
   "metadata": {},
   "outputs": [],
   "source": []
  },
  {
   "cell_type": "code",
   "execution_count": null,
   "metadata": {},
   "outputs": [],
   "source": []
  },
  {
   "cell_type": "code",
   "execution_count": null,
   "metadata": {},
   "outputs": [],
   "source": []
  },
  {
   "cell_type": "code",
   "execution_count": null,
   "metadata": {},
   "outputs": [],
   "source": []
  },
  {
   "cell_type": "code",
   "execution_count": null,
   "metadata": {},
   "outputs": [],
   "source": []
  },
  {
   "cell_type": "code",
   "execution_count": null,
   "metadata": {},
   "outputs": [],
   "source": []
  }
 ],
 "metadata": {
  "kernelspec": {
   "display_name": "Python 3",
   "language": "python",
   "name": "python3"
  },
  "language_info": {
   "codemirror_mode": {
    "name": "ipython",
    "version": 3
   },
   "file_extension": ".py",
   "mimetype": "text/x-python",
   "name": "python",
   "nbconvert_exporter": "python",
   "pygments_lexer": "ipython3",
   "version": "3.7.8"
  }
 },
 "nbformat": 4,
 "nbformat_minor": 5
}
