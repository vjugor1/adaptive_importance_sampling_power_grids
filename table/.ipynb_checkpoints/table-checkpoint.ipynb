{
 "cells": [
  {
   "cell_type": "code",
   "execution_count": 73,
   "metadata": {},
   "outputs": [],
   "source": [
    "import os\n",
    "import json\n",
    "import numpy as np\n",
    "import pandas as pd\n",
    "from matplotlib import pyplot as plt"
   ]
  },
  {
   "cell_type": "code",
   "execution_count": 74,
   "metadata": {},
   "outputs": [],
   "source": [
    "data = {}\n",
    "for file in os.listdir():\n",
    "    if '.json' in file:\n",
    "        with open(file, 'r') as fp:\n",
    "            data[file.split('_table')[0].replace('_', '')] = json.load(fp)\n"
   ]
  },
  {
   "cell_type": "code",
   "execution_count": 75,
   "metadata": {},
   "outputs": [],
   "source": [
    "for file in os.listdir():\n",
    "    if 'exp_results' in file:\n",
    "        with open(file, 'r') as fp:\n",
    "            data_tmp = fp.readlines()\n",
    "            data_tmp = np.array(data_tmp[-1].split('\\t')[1:], dtype=np.float64)\n",
    "            #data[\"pmvnorm\" + file.split('exp_results')[0]] = data_tmp\n",
    "            data[file.split('exp_results')[0]]['pmvnorm'] = {'exp': data_tmp[-1], 'std': np.std(data_tmp)}\n",
    "            #data[file.split('exp_results')[0]]['pmvnorm-exp'] = data_tmp\n",
    "            #data[file.split('exp_results')[0]]['pmvnorm-std'] = [np.std(data_tmp[:i+1]) for i in range(len(data_tmp))]"
   ]
  },
  {
   "cell_type": "code",
   "execution_count": 76,
   "metadata": {},
   "outputs": [
    {
     "name": "stdout",
     "output_type": "stream",
     "text": [
      "\\hline\n",
      "case118i & \\hspace{-2mm}$\\pi/2$\\hspace{-4mm}&6.2e-09\\!\\! & 6.2e-09 & 6.1e-09 & 6.1e-09 & 5.7e-09\\\\\n",
      "case118i & \\hspace{-2mm}$\\pi/3$\\hspace{-4mm}&2.8e-04\\!\\! & 3.0e-04 & 2.9e-04 & 2.9e-04 & 2.8e-04\\\\\n",
      "case118i & \\hspace{-2mm}$\\pi/4$\\hspace{-4mm}&1.1e-02\\!\\! & 1.1e-02 & 1.1e-02 & 1.1e-02 & 1.1e-02\\\\\n",
      "case118i & \\hspace{-2mm}$\\pi/6$\\hspace{-4mm}&1.4e-01\\!\\! & 1.4e-01 & 1.4e-01 & 1.3e-01 & 1.4e-01\\\\\n",
      "\\hline\n",
      "case3120 & \\hspace{-2mm}$\\pi/2$\\hspace{-4mm}&3.7e-13\\!\\! & 3.7e-13 & 3.7e-13 & 3.7e-13 & -1.0e+00\\\\\n",
      "case3120 & \\hspace{-2mm}$\\pi/3$\\hspace{-4mm}&1.2e-04\\!\\! & 1.2e-04 & 1.2e-04 & 1.2e-04 & -1.0e+00\\\\\n",
      "case3120 & \\hspace{-2mm}$\\pi/4$\\hspace{-4mm}&3.4e-02\\!\\! & 3.4e-02 & 3.4e-02 & 3.4e-02 & -1.0e+00\\\\\n",
      "case3120 & \\hspace{-2mm}$\\pi/6$\\hspace{-4mm}&1.0e+00\\!\\! & 9.9e-01 & 1.0e+00 & 9.9e-01 & -1.0e+00\\\\\n",
      "\\hline\n",
      "case57 & \\hspace{-2mm}$\\pi/2$\\hspace{-4mm}&8.9e-03\\!\\! & 9.0e-03 & 8.8e-03 & 8.8e-03 & 8.9e-03\\\\\n",
      "case57 & \\hspace{-2mm}$\\pi/3$\\hspace{-4mm}&8.4e-02\\!\\! & 8.5e-02 & 8.4e-02 & 8.3e-02 & 8.3e-02\\\\\n",
      "case57 & \\hspace{-2mm}$\\pi/4$\\hspace{-4mm}&2.0e-01\\!\\! & 2.0e-01 & 2.0e-01 & 1.9e-01 & 2.0e-01\\\\\n",
      "case57 & \\hspace{-2mm}$\\pi/6$\\hspace{-4mm}&4.1e-01\\!\\! & 4.1e-01 & 4.2e-01 & 4.3e-01 & 4.1e-01\\\\\n",
      "\\hline\n"
     ]
    }
   ],
   "source": [
    "### exp table\n",
    "for grid_name in list(data.keys()):\n",
    "    inf_p = data[grid_name]['ALOE-inf']['exp'] \n",
    "    mdvar = data[grid_name]['MD-Var']['exp']\n",
    "    mdkl = data[grid_name]['MD-KL']['exp']\n",
    "    aloe = data[grid_name]['ALOE']['exp']\n",
    "    case_name_prev = case_name\n",
    "    case_name = grid_name.split('pi')[0]\n",
    "    if case_name != case_name_prev:\n",
    "        \n",
    "        print('\\hline')\n",
    "    if '3120' not in grid_name:\n",
    "        pmvnorm = data[grid_name]['pmvnorm']['exp']\n",
    "        print(case_name + ' & \\hspace{-2mm}' + '$\\pi/' + str(grid_name[-1]) + '$\\hspace{-4mm}' + '&{:.1e}\\!\\! & {:.1e} & {:.1e} & {:.1e} & {:.1e}\\\\'.format(inf_p, aloe, mdvar, mdkl ,pmvnorm) + '\\\\')\n",
    "    else:\n",
    "        print(case_name + ' & \\hspace{-2mm}' + '$\\pi/' + str(grid_name[-1]) + '$\\hspace{-4mm}' + '&{:.1e}\\!\\! & {:.1e} & {:.1e} & {:.1e} & {:.1e}\\\\'.format(inf_p, aloe, mdvar, mdkl ,-1) + '\\\\')\n",
    "print('\\hline')"
   ]
  },
  {
   "cell_type": "code",
   "execution_count": 77,
   "metadata": {},
   "outputs": [
    {
     "name": "stdout",
     "output_type": "stream",
     "text": [
      "\\hline\n",
      "case118i & \\hspace{-2mm}$\\pi/2$\\hspace{-4mm}& 1.3e-09 & 3.3e-30 & 4.5e-22 & 5.7e-09\\\\\n",
      "case118i & \\hspace{-2mm}$\\pi/3$\\hspace{-4mm}& 6.6e-05 & 2.0e-13 & 3.6e-10 & 2.8e-04\\\\\n",
      "case118i & \\hspace{-2mm}$\\pi/4$\\hspace{-4mm}& 2.0e-03 & 1.6e-07 & 4.9e-06 & 1.1e-02\\\\\n",
      "case118i & \\hspace{-2mm}$\\pi/6$\\hspace{-4mm}& 1.8e-02 & 2.0e-03 & 4.6e-03 & 1.4e-01\\\\\n",
      "\\hline\n",
      "case3120 & \\hspace{-2mm}$\\pi/2$\\hspace{-4mm}& 1.5e-14 & 4.0e-45 & 1.1e-32 & -1.0e+00\\\\\n",
      "case3120 & \\hspace{-2mm}$\\pi/3$\\hspace{-4mm}& 4.8e-06 & 1.5e-15 & 1.2e-11 & -1.0e+00\\\\\n",
      "case3120 & \\hspace{-2mm}$\\pi/4$\\hspace{-4mm}& 1.5e-03 & 4.0e-07 & 1.9e-05 & -1.0e+00\\\\\n",
      "case3120 & \\hspace{-2mm}$\\pi/6$\\hspace{-4mm}& 5.0e-02 & 9.8e+01 & 1.0e+01 & -1.0e+00\\\\\n",
      "\\hline\n",
      "case57 & \\hspace{-2mm}$\\pi/2$\\hspace{-4mm}& 7.2e-04 & 3.4e-08 & 1.8e-06 & 8.9e-03\\\\\n",
      "case57 & \\hspace{-2mm}$\\pi/3$\\hspace{-4mm}& 8.8e-03 & 1.5e-04 & 2.9e-03 & 8.3e-02\\\\\n",
      "case57 & \\hspace{-2mm}$\\pi/4$\\hspace{-4mm}& 2.0e-02 & 3.8e-03 & 7.2e-02 & 2.0e-01\\\\\n",
      "case57 & \\hspace{-2mm}$\\pi/6$\\hspace{-4mm}& 3.0e-02 & 4.7e-02 & 1.3e-01 & 4.1e-01\\\\\n",
      "\\hline\n"
     ]
    }
   ],
   "source": [
    "### std table\n",
    "for grid_name in list(data.keys()):\n",
    "    mdvar = data[grid_name]['MD-Var']['std']\n",
    "    mdkl = data[grid_name]['MD-KL']['std']\n",
    "    aloe = data[grid_name]['ALOE']['std']\n",
    "    case_name_prev = case_name\n",
    "    case_name = grid_name.split('pi')[0]\n",
    "    if case_name != case_name_prev:\n",
    "        \n",
    "        print('\\hline')\n",
    "    if '3120' not in grid_name:\n",
    "        pmvnorm = data[grid_name]['pmvnorm']['exp']\n",
    "        print(case_name + ' & \\hspace{-2mm}' + '$\\pi/' + str(grid_name[-1]) + '$\\hspace{-4mm}' + '& {:.1e} & {:.1e} & {:.1e} & {:.1e}\\\\'.format(aloe, mdvar, mdkl ,pmvnorm) + '\\\\')\n",
    "    else:\n",
    "        print(case_name + ' & \\hspace{-2mm}' + '$\\pi/' + str(grid_name[-1]) + '$\\hspace{-4mm}' + '& {:.1e} & {:.1e} & {:.1e} & {:.1e}\\\\'.format(aloe, mdvar, mdkl ,-1) + '\\\\')\n",
    "print('\\hline')"
   ]
  },
  {
   "cell_type": "code",
   "execution_count": null,
   "metadata": {},
   "outputs": [],
   "source": []
  }
 ],
 "metadata": {
  "kernelspec": {
   "display_name": "Python 3",
   "language": "python",
   "name": "python3"
  },
  "language_info": {
   "codemirror_mode": {
    "name": "ipython",
    "version": 3
   },
   "file_extension": ".py",
   "mimetype": "text/x-python",
   "name": "python",
   "nbconvert_exporter": "python",
   "pygments_lexer": "ipython3",
   "version": "3.7.8"
  }
 },
 "nbformat": 4,
 "nbformat_minor": 4
}
