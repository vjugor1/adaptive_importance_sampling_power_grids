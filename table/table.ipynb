{
 "cells": [
  {
   "cell_type": "code",
   "execution_count": 32,
   "metadata": {},
   "outputs": [],
   "source": [
    "import os\n",
    "import json\n",
    "import numpy as np\n",
    "import pandas as pd\n",
    "from matplotlib import pyplot as plt"
   ]
  },
  {
   "cell_type": "code",
   "execution_count": 33,
   "metadata": {},
   "outputs": [],
   "source": [
    "data = {}\n",
    "for file in os.listdir():\n",
    "    if '.json' in file and 'pi2' not in file:\n",
    "        with open(file, 'r') as fp:\n",
    "            data[file.split('_table')[0].replace('_', '')] = json.load(fp)\n"
   ]
  },
  {
   "cell_type": "code",
   "execution_count": 35,
   "metadata": {},
   "outputs": [],
   "source": [
    "sample_num = 999\n",
    "for file in os.listdir():\n",
    "    if 'exp_results' in file and 'pi2' not in file:\n",
    "        with open(file, 'r') as fp:\n",
    "            data_tmp = fp.readlines()\n",
    "            data_tmp = np.array(data_tmp[-1].split('\\t')[1:], dtype=np.float64)\n",
    "            #data[\"pmvnorm\" + file.split('exp_results')[0]] = data_tmp\n",
    "            data[file.split('exp_results')[0]]['pmvnorm'] = {'exp': data_tmp[sample_num], 'std': np.std(data_tmp[:sample_num])}\n",
    "            data[file.split('exp_results')[0]]['pmvnorm-exp'] = data_tmp\n",
    "            data[file.split('exp_results')[0]]['pmvnorm-std'] = [np.std(data_tmp[:i+1]) for i in range(len(data_tmp))]"
   ]
  },
  {
   "cell_type": "code",
   "execution_count": 36,
   "metadata": {},
   "outputs": [],
   "source": [
    "case_name_dict = {'case118i': 'Iceland118', 'case200': 'Illinois200', 'case30': 'IEEE-30', 'case3120': 'Polish3120', 'case57': 'Case57'}"
   ]
  },
  {
   "cell_type": "code",
   "execution_count": 37,
   "metadata": {},
   "outputs": [
    {
     "name": "stdout",
     "output_type": "stream",
     "text": [
      "\\hline\n",
      "Iceland118 & \\hspace{-2mm}$\\pi/3$\\hspace{-4mm}&3.0e-132\\!\\! & 3.0e-132 & 3.0e-132 & 3.0e-132 & 0.0e+00\\\\\n",
      "Iceland118 & \\hspace{-2mm}$\\pi/4$\\hspace{-4mm}&5.1e-64\\!\\! & 5.1e-64 & 5.1e-64 & 5.1e-64 & 0.0e+00\\\\\n",
      "Iceland118 & \\hspace{-2mm}$\\pi/6$\\hspace{-4mm}&1.0e-20\\!\\! & 1.0e-20 & 1.0e-20 & 1.0e-20 & 0.0e+00\\\\\n",
      "Iceland118 & \\hspace{-2mm}$\\pi/7$\\hspace{-4mm}&6.6e-13\\!\\! & 6.6e-13 & 6.6e-13 & 6.6e-13 & 6.6e-13\\\\\n",
      "Iceland118 & \\hspace{-2mm}$\\pi/8$\\hspace{-4mm}&2.3e-08\\!\\! & 2.3e-08 & 2.3e-08 & 2.3e-08 & 2.3e-08\\\\\n",
      "\\hline\n",
      "Illinois200 & \\hspace{-2mm}$\\pi/3$\\hspace{-4mm}&7.0e-23\\!\\! & 7.0e-23 & 7.0e-23 & 7.0e-23 & 0.0e+00\\\\\n",
      "Illinois200 & \\hspace{-2mm}$\\pi/4$\\hspace{-4mm}&7.9e-12\\!\\! & 7.9e-12 & 7.9e-12 & 7.9e-12 & 7.9e-12\\\\\n",
      "Illinois200 & \\hspace{-2mm}$\\pi/6$\\hspace{-4mm}&1.1e-04\\!\\! & 1.1e-04 & 1.1e-04 & 1.1e-04 & 1.1e-04\\\\\n",
      "Illinois200 & \\hspace{-2mm}$\\pi/7$\\hspace{-4mm}&2.3e-03\\!\\! & 2.3e-03 & 2.3e-03 & 2.3e-03 & 2.3e-03\\\\\n",
      "Illinois200 & \\hspace{-2mm}$\\pi/8$\\hspace{-4mm}&1.5e-02\\!\\! & 1.5e-02 & 1.5e-02 & 1.5e-02 & 1.5e-02\\\\\n",
      "\\hline\n",
      "IEEE-30 & \\hspace{-2mm}$\\pi/3$\\hspace{-4mm}&2.7e-28\\!\\! & 2.7e-28 & 2.7e-28 & 2.7e-28 & 0.0e+00\\\\\n",
      "IEEE-30 & \\hspace{-2mm}$\\pi/4$\\hspace{-4mm}&8.2e-15\\!\\! & 8.2e-15 & 8.2e-15 & 8.2e-15 & 8.2e-15\\\\\n",
      "IEEE-30 & \\hspace{-2mm}$\\pi/6$\\hspace{-4mm}&5.8e-06\\!\\! & 5.8e-06 & 5.8e-06 & 5.8e-06 & 5.8e-06\\\\\n",
      "IEEE-30 & \\hspace{-2mm}$\\pi/7$\\hspace{-4mm}&2.9e-04\\!\\! & 2.9e-04 & 2.9e-04 & 2.9e-04 & 2.9e-04\\\\\n",
      "IEEE-30 & \\hspace{-2mm}$\\pi/8$\\hspace{-4mm}&3.1e-03\\!\\! & 3.1e-03 & 3.1e-03 & 3.1e-03 & 3.1e-03\\\\\n",
      "\\hline\n",
      "Polish3120 & \\hspace{-2mm}$\\pi/3$\\hspace{-4mm}&1.2e-04\\!\\! & 1.2e-04 & 1.2e-04 & 1.2e-04 & -1.0e+00\\\\\n",
      "Polish3120 & \\hspace{-2mm}$\\pi/4$\\hspace{-4mm}&3.4e-02\\!\\! & 3.4e-02 & 3.4e-02 & 3.4e-02 & -1.0e+00\\\\\n",
      "Polish3120 & \\hspace{-2mm}$\\pi/6$\\hspace{-4mm}&1.0e+00\\!\\! & 9.2e-01 & 1.0e+00 & 1.0e+00 & -1.0e+00\\\\\n",
      "Polish3120 & \\hspace{-2mm}$\\pi/7$\\hspace{-4mm}&1.0e+00\\!\\! & 9.8e-01 & 1.0e+00 & 9.9e-01 & -1.0e+00\\\\\n",
      "Polish3120 & \\hspace{-2mm}$\\pi/8$\\hspace{-4mm}&1.0e+00\\!\\! & 9.8e-01 & 1.0e+00 & 1.0e+00 & -1.0e+00\\\\\n",
      "\\hline\n",
      "Case57 & \\hspace{-2mm}$\\pi/3$\\hspace{-4mm}&8.5e-02\\!\\! & 8.4e-02 & 7.9e-02 & 8.7e-02 & 8.3e-02\\\\\n",
      "Case57 & \\hspace{-2mm}$\\pi/4$\\hspace{-4mm}&2.0e-01\\!\\! & 1.8e-01 & 2.0e-01 & 2.0e-01 & 2.0e-01\\\\\n",
      "Case57 & \\hspace{-2mm}$\\pi/6$\\hspace{-4mm}&4.1e-01\\!\\! & 3.9e-01 & 4.3e-01 & 4.2e-01 & 4.2e-01\\\\\n",
      "Case57 & \\hspace{-2mm}$\\pi/7$\\hspace{-4mm}&5.0e-01\\!\\! & 4.9e-01 & 4.7e-01 & 5.3e-01 & 5.0e-01\\\\\n",
      "Case57 & \\hspace{-2mm}$\\pi/8$\\hspace{-4mm}&5.6e-01\\!\\! & 5.8e-01 & 5.7e-01 & 5.9e-01 & 5.6e-01\\\\\n",
      "\\hline\n"
     ]
    }
   ],
   "source": [
    "### exp table\n",
    "case_name = list(data.keys())[0]\n",
    "for grid_name in list(data.keys()):\n",
    "    inf_p = data[grid_name]['ALOE-inf']['exp'] \n",
    "    mdvar = data[grid_name]['MD-Var']['exp']\n",
    "    mdkl = data[grid_name]['MD-KL']['exp']\n",
    "    aloe = data[grid_name]['ALOE']['exp']\n",
    "    case_name_prev = case_name\n",
    "    case_name = grid_name.split('pi')[0]\n",
    "    if case_name != case_name_prev:\n",
    "        \n",
    "        print('\\hline')\n",
    "    case_name_ = case_name_dict[case_name]\n",
    "    if '3120' not in grid_name:\n",
    "    #if False:\n",
    "        pmvnorm = data[grid_name]['pmvnorm']['exp']\n",
    "        \n",
    "        print(case_name_ + ' & \\hspace{-2mm}' + '$\\pi/' + str(grid_name[-1]) + '$\\hspace{-4mm}' + '&{:.1e}\\!\\! & {:.1e} & {:.1e} & {:.1e} & {:.1e}\\\\'.format(inf_p, aloe, mdvar, mdkl ,pmvnorm) + '\\\\')\n",
    "    else:\n",
    "        print(case_name_ + ' & \\hspace{-2mm}' + '$\\pi/' + str(grid_name[-1]) + '$\\hspace{-4mm}' + '&{:.1e}\\!\\! & {:.1e} & {:.1e} & {:.1e} & {:.1e}\\\\'.format(inf_p, aloe, mdvar, mdkl ,-1) + '\\\\')\n",
    "print('\\hline')"
   ]
  },
  {
   "cell_type": "code",
   "execution_count": 39,
   "metadata": {},
   "outputs": [
    {
     "name": "stdout",
     "output_type": "stream",
     "text": [
      "\\hline\n",
      "Iceland118 & \\hspace{-2mm}$\\pi/3$\\hspace{-4mm}& 3.5e-133 & 0.0e+00 & 0.0e+00 & 0.0e+00\\\\\n",
      "Iceland118 & \\hspace{-2mm}$\\pi/4$\\hspace{-4mm}& 5.9e-65 & 3.0e-222 & 5.8e-159 & 0.0e+00\\\\\n",
      "Iceland118 & \\hspace{-2mm}$\\pi/6$\\hspace{-4mm}& 1.2e-21 & 5.7e-71 & 5.6e-51 & 0.0e+00\\\\\n",
      "Iceland118 & \\hspace{-2mm}$\\pi/7$\\hspace{-4mm}& 7.8e-14 & 9.9e-44 & 1.5e-31 & 1.0e-28\\\\\n",
      "Iceland118 & \\hspace{-2mm}$\\pi/8$\\hspace{-4mm}& 2.7e-09 & 6.2e-28 & 2.7e-20 & 3.3e-24\\\\\n",
      "\\hline\n",
      "Illinois200 & \\hspace{-2mm}$\\pi/3$\\hspace{-4mm}& 8.2e-24 & 1.6e-78 & 2.3e-56 & 0.0e+00\\\\\n",
      "Illinois200 & \\hspace{-2mm}$\\pi/4$\\hspace{-4mm}& 9.2e-13 & 5.2e-40 & 6.6e-29 & 0.0e+00\\\\\n",
      "Illinois200 & \\hspace{-2mm}$\\pi/6$\\hspace{-4mm}& 1.2e-05 & 2.7e-15 & 2.6e-11 & 1.4e-20\\\\\n",
      "Illinois200 & \\hspace{-2mm}$\\pi/7$\\hspace{-4mm}& 2.7e-04 & 1.1e-10 & 4.9e-08 & 5.1e-10\\\\\n",
      "Illinois200 & \\hspace{-2mm}$\\pi/8$\\hspace{-4mm}& 1.7e-03 & 5.6e-08 & 3.8e-06 & 5.9e-07\\\\\n",
      "\\hline\n",
      "IEEE-30 & \\hspace{-2mm}$\\pi/3$\\hspace{-4mm}& 3.1e-29 & 2.1e-97 & 8.0e-70 & 0.0e+00\\\\\n",
      "IEEE-30 & \\hspace{-2mm}$\\pi/4$\\hspace{-4mm}& 9.5e-16 & 2.1e-50 & 2.6e-36 & 0.0e+00\\\\\n",
      "IEEE-30 & \\hspace{-2mm}$\\pi/6$\\hspace{-4mm}& 6.8e-07 & 1.2e-19 & 2.1e-14 & 1.7e-21\\\\\n",
      "IEEE-30 & \\hspace{-2mm}$\\pi/7$\\hspace{-4mm}& 3.4e-05 & 8.1e-14 & 2.8e-10 & 5.4e-20\\\\\n",
      "IEEE-30 & \\hspace{-2mm}$\\pi/8$\\hspace{-4mm}& 3.6e-04 & 3.0e-10 & 9.8e-08 & 1.8e-10\\\\\n",
      "\\hline\n",
      "Polish3120 & \\hspace{-2mm}$\\pi/3$\\hspace{-4mm}& 1.4e-05 & 4.7e-15 & 3.9e-11 & -1.0e+00\\\\\n",
      "Polish3120 & \\hspace{-2mm}$\\pi/4$\\hspace{-4mm}& 4.0e-03 & 1.2e-06 & 3.5e-05 & -1.0e+00\\\\\n",
      "Polish3120 & \\hspace{-2mm}$\\pi/6$\\hspace{-4mm}& 1.2e-01 & 3.2e+02 & 3.3e+01 & -1.0e+00\\\\\n",
      "Polish3120 & \\hspace{-2mm}$\\pi/7$\\hspace{-4mm}& 1.1e-01 & 1.5e+03 & 1.0e+02 & -1.0e+00\\\\\n",
      "Polish3120 & \\hspace{-2mm}$\\pi/8$\\hspace{-4mm}& 1.2e-01 & 3.2e+03 & 1.9e+02 & -1.0e+00\\\\\n",
      "\\hline\n",
      "Case57 & \\hspace{-2mm}$\\pi/3$\\hspace{-4mm}& 1.6e-02 & 5.0e-04 & 2.1e-03 & 1.2e-05\\\\\n",
      "Case57 & \\hspace{-2mm}$\\pi/4$\\hspace{-4mm}& 3.0e-02 & 1.7e-02 & 2.6e-02 & 3.6e-05\\\\\n",
      "Case57 & \\hspace{-2mm}$\\pi/6$\\hspace{-4mm}& 4.9e-02 & 2.5e-01 & 1.6e-01 & 7.0e-05\\\\\n",
      "Case57 & \\hspace{-2mm}$\\pi/7$\\hspace{-4mm}& 6.8e-02 & 2.9e-01 & 3.2e-01 & 7.7e-05\\\\\n",
      "Case57 & \\hspace{-2mm}$\\pi/8$\\hspace{-4mm}& 8.0e-02 & 6.7e-01 & 4.0e-01 & 9.7e-05\\\\\n",
      "\\hline\n"
     ]
    }
   ],
   "source": [
    "### std table\n",
    "for grid_name in list(data.keys()):\n",
    "    mdvar = data[grid_name]['MD-Var']['std']\n",
    "    mdkl = data[grid_name]['MD-KL']['std']\n",
    "    aloe = data[grid_name]['ALOE']['std']\n",
    "    case_name_prev = case_name\n",
    "    case_name = grid_name.split('pi')[0]\n",
    "    if case_name != case_name_prev:\n",
    "        \n",
    "        print('\\hline')\n",
    "    case_name_ = case_name_dict[case_name]\n",
    "    if '3120' not in grid_name:\n",
    "    #if False:\n",
    "        pmvnorm = data[grid_name]['pmvnorm']['std']\n",
    "        print(case_name_ + ' & \\hspace{-2mm}' + '$\\pi/' + str(grid_name[-1]) + '$\\hspace{-4mm}' + '& {:.1e} & {:.1e} & {:.1e} & {:.1e}\\\\'.format(aloe, mdvar, mdkl ,pmvnorm) + '\\\\')\n",
    "    else:\n",
    "        print(case_name_ + ' & \\hspace{-2mm}' + '$\\pi/' + str(grid_name[-1]) + '$\\hspace{-4mm}' + '& {:.1e} & {:.1e} & {:.1e} & {:.1e}\\\\'.format(aloe, mdvar, mdkl ,-1) + '\\\\')\n",
    "print('\\hline')"
   ]
  },
  {
   "cell_type": "code",
   "execution_count": null,
   "metadata": {},
   "outputs": [],
   "source": []
  },
  {
   "cell_type": "code",
   "execution_count": null,
   "metadata": {},
   "outputs": [],
   "source": []
  }
 ],
 "metadata": {
  "kernelspec": {
   "display_name": "Python 3",
   "language": "python",
   "name": "python3"
  },
  "language_info": {
   "codemirror_mode": {
    "name": "ipython",
    "version": 3
   },
   "file_extension": ".py",
   "mimetype": "text/x-python",
   "name": "python",
   "nbconvert_exporter": "python",
   "pygments_lexer": "ipython3",
   "version": "3.8.2"
  }
 },
 "nbformat": 4,
 "nbformat_minor": 4
}
