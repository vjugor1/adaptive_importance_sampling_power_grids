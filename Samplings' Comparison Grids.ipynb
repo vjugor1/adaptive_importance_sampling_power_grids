{
 "cells": [
  {
   "cell_type": "code",
   "execution_count": 1,
   "metadata": {},
   "outputs": [],
   "source": [
    "# Import namespaces\n",
    "import sys\n",
    "import os\n",
    "import math\n",
    "import itertools\n",
    "import json\n",
    "import numpy as np\n",
    "import scipy as scp\n",
    "import matplotlib.pyplot as plt\n",
    "import scipy.linalg as la\n",
    "import pandapower as pp\n",
    "import pandas as pd\n",
    "\n",
    "from scipy.stats import norm\n",
    "from scipy.stats import uniform\n",
    "from scipy.stats import multinomial\n",
    "from scipy.linalg import pinvh\n",
    "from pandapower import networks\n",
    "\n",
    "from tqdm.notebook import tqdm, trange\n",
    "import time "
   ]
  },
  {
   "cell_type": "code",
   "execution_count": 2,
   "metadata": {},
   "outputs": [],
   "source": [
    "# load matrices from file\n",
    "\n",
    "grid4 = pp.networks.case4gs();\n",
    "grid6 = pp.networks.case6ww();\n",
    "grid14 = pp.networks.case14(); # ok\n",
    "grid30 = pp.networks.case_ieee30();# ok\n",
    "grid57 = pp.networks.case57(); \n",
    "grid118 = pp.networks.case118(); #? slack angle != 0\n",
    "grid118i = pp.networks.iceland(); #ok\n",
    "grid145 = pp.networks.case145();\n",
    "grid200 = pp.networks.case_illinois200();# ok\n",
    "grid300 = pp.networks.case300();\n",
    "grid1354 = pp.networks.case1354pegase();\n",
    "grid1888 = pp.networks.case1888rte(); # ok #slack angle != 0\n",
    "grid2224 = pp.networks.GBnetwork(); # extremely high prob\n",
    "grid2848 = pp.networks.case2848rte();\n",
    "grid2869 = pp.networks.case2869pegase(); # high prob!\n",
    "grid3120 = pp.networks.case3120sp(); #ok # feasibility check do not pass, check why\n",
    "grid6470 = pp.networks.case6470rte(); #? slack angle != 0\n",
    "grid6495 = pp.networks.case6495rte(); # multiple stacks\n",
    "grid6515 = pp.networks.case6515rte(); #? slack angle != 0\n",
    "grid9241 = pp.networks.case9241pegase(); # extremely high probability\n",
    "\n",
    "net = grid118i\n",
    "\n",
    "pp.rundcpp(net);\n",
    "ppc = net[\"_ppc\"];"
   ]
  },
  {
   "cell_type": "code",
   "execution_count": 3,
   "metadata": {},
   "outputs": [],
   "source": [
    "##### Setup Grid fluctuation parameters and constraints ########\n",
    "\n",
    "\n",
    "## thresold on shift significance in DC-PF Eqs\n",
    "## pwr = pwr_shf + np.real(bbus)*va\n",
    "##\n",
    "\n",
    "shf_eps = 1e-4; \n",
    "\n",
    "## Std for fluctuating loads divided by their nominal values: \n",
    "## for small grids values 0.5-1 are realistic\n",
    "## larger grids have cov_std = 0.1 -- 0.3 or less\n",
    "##\n",
    "\n",
    "cov_std = 0.1\n",
    "\n",
    "## Phase angle difference limit\n",
    "## small grids: pi/8 -- pi/6\n",
    "## large grids: pi/3 -- pi/4\n",
    "##\n",
    "\n",
    "bnd = math.pi/4;\n",
    "\n",
    "### Cut small probabilities threshold\n",
    "### discard all probabilities than thrs* prb(closest hyperplane)\n",
    "### \n",
    "###\n",
    "### Crucially affects time performance\n",
    "###\n",
    "\n",
    "thrs = 0.001\n",
    "\n",
    "### Number of samples used in experiments\n",
    "### 500 is often enough\n",
    "### 10000 is a default value supresses the variance\n",
    "\n",
    "#nsmp = 10000; \n",
    "nsmp = 1000; \n",
    "\n",
    "\n",
    "### Step-sizes for KL and Var minimization \n",
    "### works well with 0.1-0.01\n",
    "\n",
    "eta_vm = 0.1; \n",
    "eta_kl = 0.1; \n",
    "\n",
    "### Rounding threshold in optimization: \n",
    "### if a (normalized on the simplex) hpl probability becomes lower then 0.001\n",
    "### we increase it to this level\n",
    "###\n",
    "### Crucially affects numerical stability\n",
    "###\n",
    "\n",
    "eps = 0.001"
   ]
  },
  {
   "cell_type": "code",
   "execution_count": 4,
   "metadata": {},
   "outputs": [
    {
     "name": "stdout",
     "output_type": "stream",
     "text": [
      "significant shift:  False\n"
     ]
    }
   ],
   "source": [
    "##### Setup power grid case in a convenient form for further sampling ########\n",
    "\n",
    "### find number of lines (m) and buses(n)\n",
    "\n",
    "m = net.line['to_bus'].size; \n",
    "n = net.res_bus['p_mw'].size;\n",
    "\n",
    "### Construct adjacency matrix \n",
    "###\n",
    "\n",
    "adj = np.zeros((2*m, n));\n",
    "for i in range(0, m):\n",
    "    adj[i, net.line['to_bus'][i]] = 1;\n",
    "    adj[i, net.line['from_bus'][i]] = -1;\n",
    "    adj[i+m, net.line['to_bus'][i]] = -1;\n",
    "    adj[i+m, net.line['from_bus'][i]] = 1;\n",
    "    \n",
    "### DC power flow equations have a form: \n",
    "###\n",
    "### pwr = pwr_shf + np.real(bbus)*va\n",
    "### (compute all parameters)\n",
    "\n",
    "bbus = np.real(ppc['internal']['Bbus']);\n",
    "va = math.pi*net.res_bus['va_degree']/180;\n",
    "pwr = - net.res_bus['p_mw'];\n",
    "pwr_shf =  pwr - bbus@va;\n",
    "\n",
    "### pwr_shf is significant or not:\n",
    "###\n",
    "### if the shift is small: zero it out\n",
    "### (simplifies testing and removes \"math zeros\")\n",
    "\n",
    "print(\"significant shift: \", np.max(pwr_shf) - np.min(pwr_shf) > shf_eps)\n",
    "if (np.max(pwr_shf) - np.min(pwr_shf) < shf_eps):\n",
    "    pwr_shf[range(0,n)] = 0\n",
    "    \n",
    "\n",
    "### Phase angle differences:\n",
    "###\n",
    "### va = pinv(bbus)*(pwr - pwr_shf)\n",
    "### va_d = adj*va = adj*pinv(bbus)*(pwr - pwr_shf) \n",
    "### va_d = pf_mat*pwr - va_shf\n",
    "\n",
    "bbus_pinv = pinvh(bbus.todense())\n",
    "pf_mat = adj@bbus_pinv;\n",
    "va_shf = pf_mat@pwr_shf;\n",
    "\n",
    "\n",
    "### Voltage angle differences:\n",
    "###\n",
    "\n",
    "va_d = pf_mat@pwr - va_shf;"
   ]
  },
  {
   "cell_type": "code",
   "execution_count": 5,
   "metadata": {},
   "outputs": [],
   "source": [
    "##### Distribution of fluctuations ######\n",
    "\n",
    "### assume the only one slack (a higher-level grid) in the grid\n",
    "### supress all its fluctuations and balance the grid\n",
    "###\n",
    "### TODO: adjust to a general case\n",
    "### \n",
    "\n",
    "slck = net.ext_grid['bus'];  \n",
    "slck_mat = np.eye(n);\n",
    "slck_mat[slck] = -1; ## assign values to the whole array\n",
    "slck_mat[slck,slck] = 0; # and zero out for the slack itself\n",
    "\n",
    "\n",
    "### set fluctuating components: either loads or gens or both\n",
    "###\n",
    "\n",
    "loads = np.zeros(n);\n",
    "gens = np.zeros(n);\n",
    "ctrls = np.zeros(n); ## controllable loads + gens\n",
    "\n",
    "loads[net.load['bus']] = - net.res_load['p_mw']; \n",
    "gens[net.gen['bus']] = net.res_gen['p_mw'];\n",
    "ctrls = loads + gens;\n",
    "\n",
    "### assume only loads are fluctuating\n",
    "###\n",
    "\n",
    "xi = loads;\n",
    "\n",
    "\n",
    "### Set covariance matrix and mean\n",
    "###\n",
    "### cov_sq = square of the covariance matrix\n",
    "### Gaussian rv with covariance \\Sigma is \\Sigma^{1/2} * std_normal_rv\n",
    "###\n",
    "### TODO: change to LU/cholesky factorization\n",
    "### \n",
    "\n",
    "cov_sq = cov_std*np.diag(np.abs(xi));\n",
    "\n",
    "\n",
    "\n",
    "### Final equations with fluctuations xi are then \n",
    "###\n",
    "### w/o fluctuations: \n",
    "### va_d = pf_mat*pwr - va_shf\n",
    "### with fluctuations:\n",
    "### va_d = pf_mat@(pwr + slck_mat*cov_sq*xi) - va_shf\n",
    "### va_d = pf_mat@pwr - va_shf + (pf_mat@(slck_mat@cov_sq))@xi_std \n",
    "### va_d = mu + A@xi_std\n",
    "### where xi_std is a standard normal with only fluctuating components\n",
    "###\n",
    "\n",
    "A = (pf_mat@slck_mat)@cov_sq;\n",
    "mu = pf_mat@pwr - va_shf; \n",
    "\n",
    "### Feasibility Polytope Inequalities\n",
    "### bnd \\ge va_d = mu_f + A_f@xi_std\n",
    "### incorporates both va_d \\le b and va_d \\ge -b as we have va_d's with 2 signs\n",
    "###\n",
    " \n",
    "b = np.ones(2*m)*bnd; \n",
    "\n",
    "### normalize the matrices to make it easier to compute a failure probability\n",
    "###\n",
    "\n",
    "### compute row norms of A\n",
    "nrms = np.maximum(la.norm(A, axis = 1), 1e-20)\n",
    "\n",
    "### normalize A and b so that b_n\\ge A_n*xi_std\n",
    "b_n = (b-mu)/nrms;\n",
    "A_n = [A[i]/nrms[i] for i in range(0, 2*m)]\n"
   ]
  },
  {
   "cell_type": "code",
   "execution_count": 6,
   "metadata": {},
   "outputs": [
    {
     "name": "stdout",
     "output_type": "stream",
     "text": [
      "Eqs balance check: True\n",
      "Inqs. feasibility check:  True\n",
      "Min gap in phase angles = min(RHS - LHS) 0.4493208745964767\n",
      "The RHS (phase angle diff max) =  0.7853981633974483\n"
     ]
    }
   ],
   "source": [
    "##### Assest equations feasibility #######\n",
    "\n",
    "### Power balance check \n",
    "###\n",
    "\n",
    "print(\"Eqs balance check:\", 0 == np.sum(np.sign(mu)))\n",
    "\n",
    "\n",
    "### check positiveness of bnd - mu_f = RHS - LHS\n",
    "###\n",
    "\n",
    "print(\"Inqs. feasibility check: \", np.min(b - mu) > 0)\n",
    "print(\"Min gap in phase angles = min(RHS - LHS)\", np.min(b - mu)) ## positive value, otherwise the grid fails whp\n",
    "print(\"The RHS (phase angle diff max) = \", bnd);\n"
   ]
  },
  {
   "cell_type": "code",
   "execution_count": 7,
   "metadata": {},
   "outputs": [
    {
     "name": "stdout",
     "output_type": "stream",
     "text": [
      "the union bound (upper): 0.0312790735177619\n",
      "the max bound (lower): 0.007692552500548496\n",
      "Remainder probability (omitted): 1.3706867957810815e-05\n"
     ]
    }
   ],
   "source": [
    "### Compute probabilities:\n",
    "### prb: probability of each hpl failure \n",
    "### p_up, p_dwn: upper and lower bounds\n",
    "###\n",
    "\n",
    "prb = norm.cdf(-b_n);\n",
    "p_up = np.sum(prb);\n",
    "p_dwn = np.max(prb);\n",
    "\n",
    "print(\"the union bound (upper):\", p_up)\n",
    "print(\"the max bound (lower):\", p_dwn)\n",
    "\n",
    "### Keep only valuable probabilities: \n",
    "### - use the union bound for all the rest\n",
    "### - keep only the prbs higher than the thrs* p_dwn\n",
    "\n",
    "prbh_id = (prb>thrs*p_dwn)\n",
    "prb_rmd = np.sum(prb[~(prb>thrs*p_dwn)])\n",
    "\n",
    "print(\"Remainder probability (omitted):\", prb_rmd)\n"
   ]
  },
  {
   "cell_type": "code",
   "execution_count": 9,
   "metadata": {},
   "outputs": [
    {
     "name": "stdout",
     "output_type": "stream",
     "text": [
      "# hpls we care of:  15\n"
     ]
    }
   ],
   "source": [
    "############ Preliminary steps for Sampling and Importance Sampling ############\n",
    "\n",
    "### normalize all active probabilities to one \n",
    "### as we only play a hyperplane out of them\n",
    "###\n",
    "### NB: crucial steps in performance optimization\n",
    "###\n",
    "\n",
    "x_id = np.where(prbh_id == True)[0]\n",
    "\n",
    "### local normalized versions of A and b, \n",
    "### reduced in size: number of rows now is equal to a number of constraints\n",
    "### that have a high probability of violation\n",
    "###\n",
    "\n",
    "x_bn = b_n[x_id]\n",
    "\n",
    "### we do not care about the full matrix A and vector b\n",
    "### only about important parts of them\n",
    "A_n = np.array(A_n)\n",
    "x_An = A_n[x_id]\n",
    "\n",
    "print(\"# hpls we care of: \", len(x_bn))"
   ]
  },
  {
   "cell_type": "code",
   "execution_count": 9,
   "metadata": {},
   "outputs": [
    {
     "name": "stdout",
     "output_type": "stream",
     "text": [
      "Max # of hlps a sample if out of:  7\n",
      "0 hpls violated (exactly) vs # cases 990\n",
      "1 hpls violated (exactly) vs # cases 6\n",
      "2 hpls violated (exactly) vs # cases 3\n",
      "3 hpls violated (exactly) vs # cases 0\n",
      "4 hpls violated (exactly) vs # cases 0\n",
      "5 hpls violated (exactly) vs # cases 0\n",
      "6 hpls violated (exactly) vs # cases 0\n",
      "7 hpls violated (exactly) vs # cases 1\n",
      "\n",
      "MC(exp, std): (0.01001356979927824, 0.03162234315246046)\n"
     ]
    }
   ],
   "source": [
    "############# Monte-Carlo ##################\n",
    "\n",
    "rv = norm(); \n",
    "x_std = norm.rvs(size=[n,nsmp])\n",
    "smp = x_An@x_std\n",
    "\n",
    "### fls_mc = failures in Monte-Carlo, e.g. \n",
    "### when MC discovers a failure\n",
    "###\n",
    "\n",
    "fls_mc = sum((x_bn <= smp.T[:]).T); \n",
    "print(\"Max # of hlps a sample if out of: \", np.max(fls_mc))\n",
    "\n",
    "### MC failure expectation and std\n",
    "###\n",
    "\n",
    "mc_exp = (1 - np.sum(fls_mc == 0)/nsmp)*(1 - prb_rmd)+prb_rmd;\n",
    "mc_std = (1 - prb_rmd)/math.sqrt(nsmp);\n",
    "# violation_dict = {}\n",
    "for i in range(0,np.max(fls_mc)+1):\n",
    "    print(i, \"hpls violated (exactly) vs # cases\",  np.sum(fls_mc == i))\n",
    "#     violation_dict[i] = int(np.sum(fls_mc == i))\n",
    "\n",
    "print(\"\\nMC(exp, std):\", (mc_exp, mc_std)); \n",
    "\n",
    "### write into file\n",
    "# path_to_viol_dirs = os.path.join(\"results\", \"hplns_violations\")\n",
    "# with open(os.path.join(path_to_viol_dirs, \"grid3120\", \"result.json\"), 'w+') as fp:\n",
    "#     json.dump(violation_dict, fp)"
   ]
  },
  {
   "cell_type": "code",
   "execution_count": 10,
   "metadata": {},
   "outputs": [
    {
     "name": "stdout",
     "output_type": "stream",
     "text": [
      "ALOE prbs for major hpls:  [0.00043828 0.00043828 0.05510954 0.00031233 0.00053445 0.07100662\n",
      " 0.00299764 0.17805892 0.07662494 0.07662494 0.24604069 0.00206235\n",
      " 0.13633282 0.07662494 0.07679323]\n"
     ]
    },
    {
     "name": "stderr",
     "output_type": "stream",
     "text": [
      "c:\\users\\aleks\\appdata\\local\\programs\\python\\python37\\lib\\site-packages\\ipykernel_launcher.py:58: DeprecationWarning: In future, it will be an error for 'np.bool_' scalars to be interpreted as an index\n"
     ]
    },
    {
     "name": "stdout",
     "output_type": "stream",
     "text": [
      "ALOE (exp, std) (0.01101811936308308, 0.005417694454644579)\n"
     ]
    }
   ],
   "source": [
    "############# ALOE ##################\n",
    "### \n",
    "### Exactly follows to the Owen/Maximov/Chertkov paper, EJOS'19\n",
    "###\n",
    "### sample z ~ N(0, I_n)\n",
    "### sample u ~ U(0,1)\n",
    "### compute y = F^{-1}(u F(-b_i))\n",
    "### compute x = - (a_i * y + (I - a_i.T * a_i) z)\n",
    "###\n",
    "### Ouput: union bound divided by the expected failure multiplicity\n",
    "###\n",
    "\n",
    "\n",
    "### Initialize samplers\n",
    "###\n",
    "### sample z ~ N(0, I_n) and u ~ U(0,1)\n",
    "### \n",
    "\n",
    "rv = norm();\n",
    "rv_u = uniform();\n",
    "z = norm.rvs(size=[nsmp,n]); \n",
    "u = uniform.rvs(size=[nsmp]);\n",
    "\n",
    "\n",
    "### x_alph is a vector of ALOE probabilities \n",
    "### normalized by a unit simplex\n",
    "###\n",
    "\n",
    "x_alph = prb[prbh_id]/np.sum(prb[prbh_id]);\n",
    "print(\"ALOE prbs for major hpls: \", x_alph)\n",
    "\n",
    "### _hpl: how many smpls beyond each of the hpls\n",
    "###\n",
    "\n",
    "_hpl = multinomial.rvs(n = nsmp, p = x_alph);\n",
    "\n",
    "### print(\"# samples per hpl\", _hpl)\n",
    "\n",
    "### Get cummulative sums, which are easier to work with\n",
    "_hpl = list(itertools.accumulate(_hpl))\n",
    "_hpl = np.array(_hpl)\n",
    "\n",
    "### print(\"cusum of # hpls\", _hpl)\n",
    "\n",
    "### Generate samples\n",
    "### x_aloe -- samples generated by ALOE\n",
    "###\n",
    "### TODO: seems optimizable, but I am not sure about memory mgmnt in python\n",
    "x_aloe = np.zeros([nsmp, n]); \n",
    "\n",
    "# index of the active hyperplane\n",
    "hpl_id = 0;\n",
    "\n",
    "### get samples x_aloe according to the algorithm\n",
    "#for i in tqdm(range(0,nsmp)):\n",
    "for i in range(0,nsmp):\n",
    "    ### get index of a hyperplane to sample beyond\n",
    "    hpl_id = (hpl_id, hpl_id+1)[i >= _hpl[hpl_id]];\n",
    "    y = norm.ppf(u[i]*norm.cdf(-x_bn[hpl_id]));\n",
    "    x_aloe[i] = - x_An[hpl_id]*y - z[i] + np.outer(x_An[hpl_id],x_An[hpl_id])@z[i];\n",
    "\n",
    "### test how many constraints are violated\n",
    "smp = x_An@x_aloe.T\n",
    "\n",
    "### compute expectation and std final and history\n",
    "aloe_exp = p_up*np.sum(1./np.sum(x_bn <= smp.T[:],axis=1))/nsmp + prb_rmd; \n",
    "aloe_std = p_up*math.sqrt(2*len(_hpl))/math.sqrt(nsmp); # indeed len(_hpl) instead of 2*m in the Thrm\n",
    "aloe_exp_history = [p_up * np.sum(1. / np.sum(x_bn <= (x_An@x_aloe[:i, :].T).T, axis=1)) / (i + 1) + prb_rmd for i in range(0,nsmp)]\n",
    "aloe_std_history = [p_up*math.sqrt(2*len(_hpl))/math.sqrt(i + 1) for i in range(0, nsmp)]\n",
    "\n",
    "\n",
    "print(\"ALOE (exp, std)\", (aloe_exp, aloe_std))"
   ]
  },
  {
   "cell_type": "code",
   "execution_count": 11,
   "metadata": {},
   "outputs": [
    {
     "data": {
      "text/plain": [
       "[<matplotlib.lines.Line2D at 0x250c69ddc48>]"
      ]
     },
     "execution_count": 11,
     "metadata": {},
     "output_type": "execute_result"
    },
    {
     "data": {
      "image/png": "[encoded data removed]",
      "text/plain": [
       "<Figure size 1332x396 with 2 Axes>"
      ]
     },
     "metadata": {
      "needs_background": "light"
     },
     "output_type": "display_data"
    }
   ],
   "source": [
    "\n",
    "fig, (ax1, ax2) = plt.subplots(1, 2)\n",
    "fig.set_size_inches(18.5, 5.5)\n",
    "ax1.set_title(r'$\\pi$')\n",
    "ax1.plot(aloe_exp_history[1:])\n",
    "ax2.set_title('std')\n",
    "ax2.plot(aloe_std_history[1:])\n"
   ]
  },
  {
   "cell_type": "code",
   "execution_count": 12,
   "metadata": {},
   "outputs": [
    {
     "data": {
      "application/vnd.jupyter.widget-view+json": {
       "model_id": "066cd31444544a63811c7488b0baf460",
       "version_major": 2,
       "version_minor": 0
      },
      "text/plain": [
       "  0%|          | 0/1000 [00:00<?, ?it/s]"
      ]
     },
     "metadata": {},
     "output_type": "display_data"
    },
    {
     "name": "stdout",
     "output_type": "stream",
     "text": [
      "###########  some coordinates are small  #################\n",
      "Optimal weigths of MD-Var minimization:  [0.00140206 0.00140206 0.05479257 0.00127925 0.00149582 0.07040128\n",
      " 0.00389748 0.17735026 0.07579623 0.07579623 0.24687638 0.00298586\n",
      " 0.13476509 0.07579623 0.0759632 ]\n",
      "Optimal weigths of ALOE [0.00043828 0.00043828 0.05510954 0.00031233 0.00053445 0.07100662\n",
      " 0.00299764 0.17805892 0.07662494 0.07662494 0.24604069 0.00206235\n",
      " 0.13633282 0.07662494 0.07679323]\n",
      "MD-Var (exp, std) (0.01072966829529089, 1.5128954085517537e-07)\n"
     ]
    }
   ],
   "source": [
    "####### Optimization approach ######\n",
    "#######\n",
    "####### Variance Minimization ######\n",
    "####### \n",
    "\n",
    "\n",
    "### setup the initial values\n",
    "\n",
    "eta = eta_vm; \n",
    "md_var = 0; \n",
    "md_exp = 0;\n",
    "grad = np.zeros(len(x_bn)); #gradient on each iteration\n",
    "_hpl = np.zeros(nsmp); # hpls choosen by the method \n",
    "\n",
    "### intentionally use a copy instead of a reference\n",
    "### alph is a vector of weigths to be updated in algorithm\n",
    "###\n",
    "\n",
    "alph = x_alph[:];\n",
    "\n",
    "### history of probability estimate and std\n",
    "md_exp_history = []\n",
    "md_std_history = []\n",
    "\n",
    "# values for Phi (x_bn)\n",
    "x_phi = [norm.cdf(-x_bn[i]) for i in range(0, len(x_bn))]\n",
    "\n",
    "### grad normalization by prbs[i] factor is introduced to make computations numerically stable\n",
    "###\n",
    "\n",
    "prbs = prb[prbh_id];\n",
    "\n",
    "for i in tqdm(range(0,nsmp)):\n",
    "    \n",
    "    ### sample x according to current alph\n",
    "    hpl_id = np.where(multinomial.rvs(n=1,p = alph, size=1, random_state=None)[0] == 1)[0];\n",
    "    _hpl[i] = hpl_id;        \n",
    "    \n",
    "    ### generate a sample following to the ALOE procedure\n",
    "    y = norm.ppf(u[i]*norm.cdf(-x_bn[hpl_id]));\n",
    "    \n",
    "    x_smp = - x_An[hpl_id]*y - z[i] + np.outer(x_An[hpl_id],x_An[hpl_id])@z[i];\n",
    "    \n",
    "    ### the RHS' to be compared with x_bn\n",
    "    x_smp = x_An@x_smp.T;\n",
    "\n",
    "    ### results of constraints violations for each generated object\n",
    "    cns_vlt = (x_bn <= x_smp.T[:])[0]\n",
    "    \n",
    "    ### weight vector defined by the multiplicity of constraint violation for each sample\n",
    "    wgt = 1./np.sum(np.multiply(cns_vlt, np.multiply(alph, 1./x_alph))); \n",
    "    \n",
    "    \n",
    "    ### compute gradient of the variance, see the paper (our + OMC) for details\n",
    "    grad = [-p_up*p_up*wgt*wgt*norm.pdf(x_smp[k])[0]*cns_vlt[k]/prbs[k] for k in range(len(x_smp))];\n",
    "    grad = np.array(grad)\n",
    "\n",
    "    \n",
    "    ### The gradient is high -- signal about emergency as it can zero out all weights\n",
    "    if (la.norm(eta*grad)>1e4):\n",
    "        print(\"\\n##############    Extremely high gradient      ############\\n\");\n",
    "        print(\"Iteration: \", i, \"\\nGradient:\", grad)\n",
    "    \n",
    "    ### make a ``simplex MD'' update\n",
    "    alph = [math.exp(-eta*grad[k])*alph[k] for k in range(0,len(x_smp))];\n",
    "    \n",
    "\n",
    "    ### enter if some coordinates are too small and may cause numerical instability\n",
    "    ### increase the corresponding weigths\n",
    "    if (np.min(alph) < eps):\n",
    "        print(\"###########  some coordinates are small  #################\")\n",
    "        alph = [alph[k]+eps for k in range(0,len(x_bn))];\n",
    "        \n",
    "    ### make a projection to the unit simplex\n",
    "    alph = alph/np.sum(alph); \n",
    "    \n",
    "    ### adjust contribution to the errors\n",
    "    md_exp = md_exp + wgt;\n",
    "    md_exp_history.append(p_up * md_exp / (i + 1) + prb_rmd)\n",
    "    md_var = md_var + p_up*np.dot(grad.T,grad);\n",
    "    md_std_history.append(p_up * math.sqrt(md_var) / (i + 1))\n",
    "    \n",
    "    \n",
    "print(\"Optimal weigths of MD-Var minimization: \", alph)\n",
    "print(\"Optimal weigths of ALOE\", x_alph)\n",
    "\n",
    "### normalize errors, compute standard deviation\n",
    "md_exp = p_up*md_exp/nsmp + prb_rmd; \n",
    "md_std = p_up*math.sqrt(md_var)/nsmp;\n",
    "\n",
    "print(\"MD-Var (exp, std)\", (md_exp, md_std))\n",
    "#print(\"assert normalization:\", np.sum(alph), np.sum(x_alph))"
   ]
  },
  {
   "cell_type": "code",
   "execution_count": 13,
   "metadata": {},
   "outputs": [
    {
     "data": {
      "text/plain": [
       "[<matplotlib.lines.Line2D at 0x250c6ebfbc8>]"
      ]
     },
     "execution_count": 13,
     "metadata": {},
     "output_type": "execute_result"
    },
    {
     "data": {
      "image/png": "[encoded data removed]",
      "text/plain": [
       "<Figure size 1332x396 with 2 Axes>"
      ]
     },
     "metadata": {
      "needs_background": "light"
     },
     "output_type": "display_data"
    }
   ],
   "source": [
    "\n",
    "fig, (ax1, ax2) = plt.subplots(1, 2)\n",
    "fig.set_size_inches(18.5, 5.5)\n",
    "ax1.set_title(r'$\\pi$')\n",
    "ax1.plot(md_exp_history[1:])\n",
    "ax2.set_title('std')\n",
    "ax2.plot(md_std_history[1:])\n"
   ]
  },
  {
   "cell_type": "code",
   "execution_count": 14,
   "metadata": {},
   "outputs": [
    {
     "data": {
      "application/vnd.jupyter.widget-view+json": {
       "model_id": "ec54ea7fe8ec4a81b577922499287053",
       "version_major": 2,
       "version_minor": 0
      },
      "text/plain": [
       "  0%|          | 0/1000 [00:00<?, ?it/s]"
      ]
     },
     "metadata": {},
     "output_type": "display_data"
    },
    {
     "name": "stdout",
     "output_type": "stream",
     "text": [
      "###########  some coordinates are small  #################\n",
      "###########  some coordinates are small  #################\n",
      "Optimal weigths of MD-KL minimization:  [0.00133929 0.00133929 0.03769592 0.00128109 0.00138856 0.05003733\n",
      " 0.00261433 0.16980364 0.05804909 0.05804909 0.36823697 0.00216459\n",
      " 0.13158051 0.05804909 0.05837122]\n",
      "Optimal weigths of ALOE [0.00043828 0.00043828 0.05510954 0.00031233 0.00053445 0.07100662\n",
      " 0.00299764 0.17805892 0.07662494 0.07662494 0.24604069 0.00206235\n",
      " 0.13633282 0.07662494 0.07679323]\n",
      "MD-KL (exp, std) (0.010008868586441457, 4.3255388106456884e-06)\n"
     ]
    }
   ],
   "source": [
    "####### Optimization approach ######\n",
    "#######\n",
    "####### KL Minimization ######\n",
    "#######\n",
    "\n",
    "### SMD step-size\n",
    "eta = eta_kl; \n",
    "\n",
    "### setup initial values\n",
    "kl_exp = 0; \n",
    "kl_var = 0; \n",
    "grad = np.zeros(len(x_bn));\n",
    "_hpl = np.zeros(nsmp); ## _hpl[i] = beyond which hpl we sample on iteration i\n",
    "\n",
    "### intentionally use a copy instead of a reference\n",
    "### alph is an optimization variable\n",
    "alph = x_alph[:];\n",
    "\n",
    "### history of probability estimate and std\n",
    "kl_exp_history = []\n",
    "kl_std_history = []\n",
    "\n",
    "### this normalization factor is introduced to make computations numerically stable\n",
    "prbs = prb[prbh_id];\n",
    "\n",
    "\n",
    "for i in tqdm(range(0,nsmp)):#,miniters=500):\n",
    "    \n",
    "    ### sample x according to current alph\n",
    "    hpl_id = np.where(multinomial.rvs(n=1,p = alph, size=1, random_state=None)[0] == 1)[0];\n",
    "    _hpl[i] = hpl_id;        \n",
    "    \n",
    "    ### generate a sample accordint to ALOE\n",
    "    y = norm.ppf(u[i]*norm.cdf(-x_bn[hpl_id]));\n",
    "    x_smp = - x_An[hpl_id]*y - z[i] + np.outer(x_An[hpl_id],x_An[hpl_id])@z[i];\n",
    "    \n",
    "    ### RHS to compare with x_bn\n",
    "    x_smp = x_An@x_smp.T;\n",
    "    \n",
    "    ### results of constraints violations for the generated object\n",
    "    cns_vlt = (x_bn <= x_smp.T[:])[0]\n",
    "    \n",
    "    ### object weight which is set according to ALOE\n",
    "    wgt = 1./np.sum(np.multiply(cns_vlt, np.multiply(alph, 1./x_alph))); \n",
    "    \n",
    "    # the KL divergence's gradient \n",
    "    grad = [-p_up*wgt*norm.pdf(x_smp[k])[0]*cns_vlt[k]/prbs[k] for k in range(len(x_smp))];\n",
    "    grad = np.array(grad)\n",
    "\n",
    "    ### The gradient is high -- signal about emergency as it can zero out all weights\n",
    "    if (la.norm(eta*grad)>1e4):\n",
    "        print(\"\\n##############    Extremely high gradient      ############\\n\");\n",
    "        print(\"Iteration: \", i, \"\\nGradient:\", grad)\n",
    "    \n",
    "    ### make a ``simplex MD'' update\n",
    "    alph = [math.exp(-eta*grad[k])*alph[k] for k in range(0,len(x_smp))];\n",
    "    \n",
    "    ### enter if some coordinates are too small and may cause numerical instability\n",
    "    ### increase the corresponding weigths\n",
    "    if (np.min(alph) < eps):\n",
    "        print(\"###########  some coordinates are small  #################\")\n",
    "        alph = [alph[k]+eps for k in range(0,len(x_bn))];\n",
    "        \n",
    "    ### make a projection to the unit simplex\n",
    "    alph = alph/np.sum(alph); \n",
    "    \n",
    "    ### adjust contribution to the errors\n",
    "    kl_exp = kl_exp + wgt;\n",
    "    kl_exp_history.append(p_up * kl_exp / (i + 1) + prb_rmd)\n",
    "    kl_var = kl_var + p_up*np.dot(grad.T,grad)*wgt;\n",
    "    kl_std_history.append(p_up * math.sqrt(kl_var) / (i + 1))\n",
    "    \n",
    "print(\"Optimal weigths of MD-KL minimization: \", alph)\n",
    "print(\"Optimal weigths of ALOE\", x_alph)\n",
    "\n",
    "### normalize errors\n",
    "kl_exp = p_up*kl_exp/nsmp + prb_rmd; \n",
    "kl_std = p_up*math.sqrt(kl_var)/nsmp;\n",
    "print(\"MD-KL (exp, std)\", (kl_exp, kl_std))\n",
    "\n",
    "#print(\"assert normalization:\", np.sum(alph), np.sum(x_alph))"
   ]
  },
  {
   "cell_type": "code",
   "execution_count": 15,
   "metadata": {},
   "outputs": [
    {
     "data": {
      "text/plain": [
       "[<matplotlib.lines.Line2D at 0x250c6fb6cc8>]"
      ]
     },
     "execution_count": 15,
     "metadata": {},
     "output_type": "execute_result"
    },
    {
     "data": {
      "image/png": "[encoded data removed]",
      "text/plain": [
       "<Figure size 1332x396 with 2 Axes>"
      ]
     },
     "metadata": {
      "needs_background": "light"
     },
     "output_type": "display_data"
    }
   ],
   "source": [
    "\n",
    "fig, (ax1, ax2) = plt.subplots(1, 2)\n",
    "fig.set_size_inches(18.5, 5.5)\n",
    "ax1.set_title(r'$\\pi$')\n",
    "ax1.plot(kl_exp_history[1:])\n",
    "ax2.set_title('std')\n",
    "ax2.plot(kl_std_history[1:])\n"
   ]
  },
  {
   "cell_type": "code",
   "execution_count": 16,
   "metadata": {},
   "outputs": [
    {
     "name": "stdout",
     "output_type": "stream",
     "text": [
      "the union bound (up): 0.0312790735177619\n",
      "the max bound (lower): 0.007692552500548496\n",
      "MC(exp, std): 0.01001356979927824 0.03162234315246046\n",
      "ALOE(exp, std) 0.01101811936308308 0.005417694454644579\n",
      "MD-Var(exp, var) 0.01072966829529089 1.5128954085517537e-07\n",
      "MD-KL(exp, var) 0.010008868586441457 4.3255388106456884e-06\n"
     ]
    }
   ],
   "source": [
    "##############  Output all probabilities  ##################\n",
    "\n",
    "print(\"the union bound (up):\", p_up)\n",
    "print(\"the max bound (lower):\", p_dwn)\n",
    "\n",
    "print(\"MC(exp, std):\", mc_exp, mc_std); \n",
    "print(\"ALOE(exp, std)\", aloe_exp, aloe_std)\n",
    "\n",
    "print(\"MD-Var(exp, var)\", md_exp, md_std)\n",
    "print(\"MD-KL(exp, var)\", kl_exp, kl_std)"
   ]
  },
  {
   "cell_type": "code",
   "execution_count": 22,
   "metadata": {},
   "outputs": [
    {
     "data": {
      "image/png": "[encoded data removed]",
      "text/plain": [
       "<Figure size 1332x396 with 2 Axes>"
      ]
     },
     "metadata": {
      "needs_background": "light"
     },
     "output_type": "display_data"
    }
   ],
   "source": [
    "roll = 5\n",
    "plt.rcParams['font.size'] = '14'\n",
    "fig, (ax1, ax2) = plt.subplots(1, 2)\n",
    "fig.set_size_inches(18.5, 5.5)\n",
    "ax1.set_title('Violation Probability')\n",
    "ax1.plot(pd.Series(kl_exp_history[1:]).rolling(roll).mean()[roll - 1:], label='KL')\n",
    "ax1.plot(pd.Series(md_exp_history[1:]).rolling(roll).mean()[roll - 1:], label='MD')\n",
    "ax1.plot(pd.Series(aloe_exp_history[1:]).rolling(roll).mean()[roll - 1:], label='ALOE')\n",
    "#ax1.set_ylim(min(md_exp_history) - 1e-3, max(md_exp_history) + 1e-3)\n",
    "ax1.set_xlabel('Number of Sample')\n",
    "ax1.set_ylabel('Probability')\n",
    "ax1.legend()\n",
    "ax2.set_title('Standard Deviation')\n",
    "ax2.semilogy(kl_std_history[1:], label='KL')\n",
    "ax2.semilogy(md_std_history[1:], label='MD')\n",
    "#ax2.semilogy(aloe_std_history[1:], label='ALOE')\n",
    "ax2.semilogy([np.std(aloe_exp_history[:i]) for i in range(len(aloe_exp_history))][4:], label='ALOE')\n",
    "ax2.set_xlabel('Number of Sample')\n",
    "ax2.set_ylabel(r'$\\log_{10}$std')\n",
    "#ax2.set_ylim(-1e-7, 0.1)\n",
    "ax2.legend()\n",
    "#plt.savefig('118i_prob_std.jpg')"
   ]
  },
  {
   "cell_type": "code",
   "execution_count": null,
   "metadata": {},
   "outputs": [],
   "source": [
    "\n",
    "  "
   ]
  },
  {
   "cell_type": "code",
   "execution_count": null,
   "metadata": {},
   "outputs": [],
   "source": []
  },
  {
   "cell_type": "code",
   "execution_count": null,
   "metadata": {},
   "outputs": [],
   "source": []
  },
  {
   "cell_type": "code",
   "execution_count": null,
   "metadata": {},
   "outputs": [],
   "source": []
  },
  {
   "cell_type": "code",
   "execution_count": null,
   "metadata": {},
   "outputs": [],
   "source": []
  },
  {
   "cell_type": "code",
   "execution_count": null,
   "metadata": {},
   "outputs": [],
   "source": []
  },
  {
   "cell_type": "code",
   "execution_count": null,
   "metadata": {},
   "outputs": [],
   "source": []
  },
  {
   "cell_type": "code",
   "execution_count": null,
   "metadata": {},
   "outputs": [],
   "source": []
  },
  {
   "cell_type": "code",
   "execution_count": null,
   "metadata": {},
   "outputs": [],
   "source": []
  },
  {
   "cell_type": "code",
   "execution_count": null,
   "metadata": {},
   "outputs": [],
   "source": []
  },
  {
   "cell_type": "code",
   "execution_count": null,
   "metadata": {},
   "outputs": [],
   "source": []
  },
  {
   "cell_type": "code",
   "execution_count": 18,
   "metadata": {},
   "outputs": [],
   "source": [
    "# # check what python distributions can do and how well\n",
    "\n",
    "# print(\"--------------------\\n Sanity check:\\n\")\n",
    "# # cdf (x, mean, std)\n",
    "# z = -12; \n",
    "# print(\"cdf/ppf: \", z == norm.ppf(norm.cdf(z,0,1), 0, 1));\n",
    "\n",
    "# # test linear algebra \n",
    "# print(\"la/norm: \", la.norm(z) == -z);\n",
    "\n",
    "# A = np.matrix([[4,0.5,0,0],[0.5,1,0,0],[0,0,1,0],[0,0,0,1.]])\n",
    "\n",
    "# L = la.cholesky(A, lower = True)\n",
    "\n",
    "# # A  = LL'\n",
    "# print(\"la/cholesky: \", 0 == np.sum(A != L@L.T))\n",
    "\n",
    "# B = np.matrix([[0,0,0],[0,5,0],[0,0,1]]);\n",
    "# B_pnv = la.pinvh(B)\n",
    "# print(\"la/pinv: \", 0 == np.sum(B != B@(B@B_pnv)))"
   ]
  },
  {
   "cell_type": "code",
   "execution_count": null,
   "metadata": {},
   "outputs": [],
   "source": []
  },
  {
   "cell_type": "code",
   "execution_count": null,
   "metadata": {},
   "outputs": [],
   "source": []
  },
  {
   "cell_type": "code",
   "execution_count": 19,
   "metadata": {},
   "outputs": [
    {
     "data": {
      "text/plain": [
       "'\\nd = 1;\\n_z = norm.rvs(size=[nsmp,d]); \\n_u = uniform.rvs(size=[nsmp]);\\n\\nx_test = np.zeros([nsmp, d]); \\nthrs = 3;\\na = np.array([1]);\\n\\nfor i in range(0,nsmp):\\n    ## get index of a hyperplane    \\n    y = norm.ppf(_u[i]*norm.cdf(-thrs));\\n    x_test[i] = - a*y - _z[i] + np.outer(a,a)@_z[i];\\n\\n_ans = np.sort(x_test.T[0])\\n    \\n# check number of items falls into 3.5 +, 3.75+ and 4+\\nprint(np.sum(_ans > 4)/nsmp, norm.cdf(-4)/norm.cdf(-3))\\nprint(np.sum(_ans > 3.75)/nsmp, norm.cdf(-3.75)/norm.cdf(-3))\\nprint(np.sum(_ans > 3.5)/nsmp, norm.cdf(-3.5)/norm.cdf(-3))\\n\\n'"
      ]
     },
     "execution_count": 19,
     "metadata": {},
     "output_type": "execute_result"
    }
   ],
   "source": [
    "## conditional sampling outside of a hyperplane\n",
    "## a separate test for 1 dimensional case\n",
    "\n",
    "# sample z ~ N(0, I_n) and u ~ U(0,1)\n",
    "\"\"\"\n",
    "d = 1;\n",
    "_z = norm.rvs(size=[nsmp,d]); \n",
    "_u = uniform.rvs(size=[nsmp]);\n",
    "\n",
    "x_test = np.zeros([nsmp, d]); \n",
    "thrs = 3;\n",
    "a = np.array([1]);\n",
    "\n",
    "for i in range(0,nsmp):\n",
    "    ## get index of a hyperplane    \n",
    "    y = norm.ppf(_u[i]*norm.cdf(-thrs));\n",
    "    x_test[i] = - a*y - _z[i] + np.outer(a,a)@_z[i];\n",
    "\n",
    "_ans = np.sort(x_test.T[0])\n",
    "    \n",
    "# check number of items falls into 3.5 +, 3.75+ and 4+\n",
    "print(np.sum(_ans > 4)/nsmp, norm.cdf(-4)/norm.cdf(-3))\n",
    "print(np.sum(_ans > 3.75)/nsmp, norm.cdf(-3.75)/norm.cdf(-3))\n",
    "print(np.sum(_ans > 3.5)/nsmp, norm.cdf(-3.5)/norm.cdf(-3))\n",
    "\n",
    "\"\"\"\n"
   ]
  },
  {
   "cell_type": "code",
   "execution_count": null,
   "metadata": {},
   "outputs": [],
   "source": []
  },
  {
   "cell_type": "code",
   "execution_count": null,
   "metadata": {},
   "outputs": [],
   "source": []
  },
  {
   "cell_type": "code",
   "execution_count": null,
   "metadata": {},
   "outputs": [],
   "source": []
  },
  {
   "cell_type": "code",
   "execution_count": null,
   "metadata": {},
   "outputs": [],
   "source": []
  },
  {
   "cell_type": "code",
   "execution_count": null,
   "metadata": {},
   "outputs": [],
   "source": []
  },
  {
   "cell_type": "code",
   "execution_count": null,
   "metadata": {},
   "outputs": [],
   "source": []
  },
  {
   "cell_type": "code",
   "execution_count": null,
   "metadata": {},
   "outputs": [],
   "source": []
  },
  {
   "cell_type": "code",
   "execution_count": null,
   "metadata": {},
   "outputs": [],
   "source": []
  },
  {
   "cell_type": "code",
   "execution_count": null,
   "metadata": {},
   "outputs": [],
   "source": []
  },
  {
   "cell_type": "code",
   "execution_count": null,
   "metadata": {},
   "outputs": [],
   "source": []
  },
  {
   "cell_type": "code",
   "execution_count": null,
   "metadata": {},
   "outputs": [],
   "source": []
  },
  {
   "cell_type": "code",
   "execution_count": null,
   "metadata": {},
   "outputs": [],
   "source": []
  },
  {
   "cell_type": "code",
   "execution_count": null,
   "metadata": {},
   "outputs": [],
   "source": []
  },
  {
   "cell_type": "code",
   "execution_count": null,
   "metadata": {},
   "outputs": [],
   "source": []
  },
  {
   "cell_type": "code",
   "execution_count": null,
   "metadata": {},
   "outputs": [],
   "source": []
  },
  {
   "cell_type": "code",
   "execution_count": null,
   "metadata": {},
   "outputs": [],
   "source": []
  },
  {
   "cell_type": "code",
   "execution_count": null,
   "metadata": {},
   "outputs": [],
   "source": []
  },
  {
   "cell_type": "code",
   "execution_count": null,
   "metadata": {},
   "outputs": [],
   "source": []
  },
  {
   "cell_type": "code",
   "execution_count": null,
   "metadata": {},
   "outputs": [],
   "source": []
  },
  {
   "cell_type": "code",
   "execution_count": null,
   "metadata": {},
   "outputs": [],
   "source": []
  },
  {
   "cell_type": "markdown",
   "metadata": {},
   "source": []
  },
  {
   "cell_type": "code",
   "execution_count": null,
   "metadata": {},
   "outputs": [],
   "source": []
  },
  {
   "cell_type": "code",
   "execution_count": null,
   "metadata": {},
   "outputs": [],
   "source": []
  },
  {
   "cell_type": "code",
   "execution_count": null,
   "metadata": {},
   "outputs": [],
   "source": []
  },
  {
   "cell_type": "code",
   "execution_count": null,
   "metadata": {},
   "outputs": [],
   "source": []
  },
  {
   "cell_type": "code",
   "execution_count": null,
   "metadata": {},
   "outputs": [],
   "source": []
  },
  {
   "cell_type": "code",
   "execution_count": null,
   "metadata": {},
   "outputs": [],
   "source": []
  },
  {
   "cell_type": "code",
   "execution_count": null,
   "metadata": {},
   "outputs": [],
   "source": []
  }
 ],
 "metadata": {
  "kernelspec": {
   "display_name": "Python 3",
   "language": "python",
   "name": "python3"
  },
  "language_info": {
   "codemirror_mode": {
    "name": "ipython",
    "version": 3
   },
   "file_extension": ".py",
   "mimetype": "text/x-python",
   "name": "python",
   "nbconvert_exporter": "python",
   "pygments_lexer": "ipython3",
   "version": "3.7.8"
  }
 },
 "nbformat": 4,
 "nbformat_minor": 5
}
